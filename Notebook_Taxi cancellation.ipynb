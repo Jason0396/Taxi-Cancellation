{
 "cells": [
  {
   "cell_type": "code",
   "execution_count": 1,
   "metadata": {},
   "outputs": [],
   "source": [
    "import pandas as pd\n",
    "import numpy as np\n",
    "import seaborn as sns\n",
    "import matplotlib.pyplot as plt\n",
    "pd.options.mode.chained_assignment = None"
   ]
  },
  {
   "cell_type": "code",
   "execution_count": 2,
   "metadata": {},
   "outputs": [],
   "source": [
    "from imblearn.over_sampling import RandomOverSampler\n",
    "from imblearn.over_sampling import SMOTE\n",
    "import sklearn.model_selection as ms\n",
    "from sklearn.ensemble import RandomForestClassifier\n",
    "from sklearn.ensemble import AdaBoostClassifier\n",
    "from sklearn.metrics import confusion_matrix\n",
    "from bayes_opt import BayesianOptimization\n",
    "import lightgbm as lgb\n",
    "import warnings \n",
    "warnings.filterwarnings('ignore')\n",
    "from sklearn import metrics\n",
    "from sklearn.model_selection import RepeatedKFold\n",
    "from sklearn.model_selection import KFold"
   ]
  },
  {
   "cell_type": "code",
   "execution_count": 3,
   "metadata": {},
   "outputs": [],
   "source": [
    "df = pd.read_csv(r'Taxi-cancellation-case.csv')"
   ]
  },
  {
   "cell_type": "code",
   "execution_count": 4,
   "metadata": {},
   "outputs": [
    {
     "data": {
      "text/plain": [
       "0.0743"
      ]
     },
     "execution_count": 4,
     "metadata": {},
     "output_type": "execute_result"
    }
   ],
   "source": [
    "df['Car_Cancellation'].sum()/len(df)"
   ]
  },
  {
   "cell_type": "markdown",
   "metadata": {},
   "source": [
    "Tỉ lệ xe bị bỏ chuyến đang ở mức trung bình 7.43% trong số lượng quan sát"
   ]
  },
  {
   "cell_type": "code",
   "execution_count": 5,
   "metadata": {},
   "outputs": [],
   "source": [
    "#drop hai column thông tin không cần thiết là row# và user_id\n",
    "df.drop(columns = ['row#','user_id'], axis = 1, inplace = True)"
   ]
  },
  {
   "cell_type": "markdown",
   "metadata": {},
   "source": [
    "## Nội dung\n",
    "\n",
    "- <a href='#1'>1. Convert dữ liệu tọa độ, thời gian và check missing data</a>\n",
    "\n",
    "- <a href='#2'>2. Làm rõ mối tương quan giữa area và city </a>  \n",
    "   \n",
    "- <a href='#3'>3. Encoding biến package_id và vehicle_type_id </a>\n",
    "   \n",
    "- <a href='#4'>4. Xử lý các thuộc tính về thời gian </a>\n",
    "\n",
    "- <a href='#5'>5. Xử lý tiếp các thuộc tính về tọa độ </a>\n",
    "\n",
    "- <a href='#6'>6. Chuẩn hóa các biến về số, xử lý outlier </a>\n",
    "\n",
    "- <a href='#7'>7. Mô hình dự đoán với RandomForest</a>\n",
    "\n",
    "- <a href='#8'>8. Mô hình dự đoán với AdaBoost </a> \n",
    "\n",
    "- <a href='#9'>9. Mô hình dự đoán với Lightgbm </a>\n"
   ]
  },
  {
   "cell_type": "markdown",
   "metadata": {},
   "source": [
    "# <a id= '1'>1. Convert dữ liệu tọa độ, thời gian và check missing data</a>"
   ]
  },
  {
   "cell_type": "markdown",
   "metadata": {},
   "source": [
    "Trước khi đi vào sử lý dữ liệu, chúng ta thấy có hai vấn đề cơ bản đối với tập thông tin này. Vấn đề thứ nhất là các thông tin về ngày tháng đang ở trong định dạng của excel, và thông tin về tọa độ. Trước hết chúng ta convert thông tin về ngày tháng sang định dạng datetime mà chúng ta có thể hiểu được."
   ]
  },
  {
   "cell_type": "code",
   "execution_count": 6,
   "metadata": {},
   "outputs": [
    {
     "data": {
      "text/html": [
       "<div>\n",
       "<style scoped>\n",
       "    .dataframe tbody tr th:only-of-type {\n",
       "        vertical-align: middle;\n",
       "    }\n",
       "\n",
       "    .dataframe tbody tr th {\n",
       "        vertical-align: top;\n",
       "    }\n",
       "\n",
       "    .dataframe thead th {\n",
       "        text-align: right;\n",
       "    }\n",
       "</style>\n",
       "<table border=\"1\" class=\"dataframe\">\n",
       "  <thead>\n",
       "    <tr style=\"text-align: right;\">\n",
       "      <th></th>\n",
       "      <th>from_date_</th>\n",
       "      <th>to_date_</th>\n",
       "      <th>booking_created_</th>\n",
       "    </tr>\n",
       "  </thead>\n",
       "  <tbody>\n",
       "    <tr>\n",
       "      <th>0</th>\n",
       "      <td>2013-01-01 22:33:00</td>\n",
       "      <td>NaT</td>\n",
       "      <td>2013-01-01 08:01:00</td>\n",
       "    </tr>\n",
       "    <tr>\n",
       "      <th>1</th>\n",
       "      <td>2013-01-01 12:43:00</td>\n",
       "      <td>NaT</td>\n",
       "      <td>2013-01-01 09:59:00</td>\n",
       "    </tr>\n",
       "    <tr>\n",
       "      <th>2</th>\n",
       "      <td>2013-01-02 00:28:00</td>\n",
       "      <td>2013-01-03</td>\n",
       "      <td>2013-01-01 12:14:00</td>\n",
       "    </tr>\n",
       "    <tr>\n",
       "      <th>3</th>\n",
       "      <td>2013-01-01 13:12:00</td>\n",
       "      <td>NaT</td>\n",
       "      <td>2013-01-01 12:42:00</td>\n",
       "    </tr>\n",
       "    <tr>\n",
       "      <th>4</th>\n",
       "      <td>2013-01-01 16:33:00</td>\n",
       "      <td>NaT</td>\n",
       "      <td>2013-01-01 15:07:00</td>\n",
       "    </tr>\n",
       "  </tbody>\n",
       "</table>\n",
       "</div>"
      ],
      "text/plain": [
       "           from_date_   to_date_    booking_created_\n",
       "0 2013-01-01 22:33:00        NaT 2013-01-01 08:01:00\n",
       "1 2013-01-01 12:43:00        NaT 2013-01-01 09:59:00\n",
       "2 2013-01-02 00:28:00 2013-01-03 2013-01-01 12:14:00\n",
       "3 2013-01-01 13:12:00        NaT 2013-01-01 12:42:00\n",
       "4 2013-01-01 16:33:00        NaT 2013-01-01 15:07:00"
      ]
     },
     "execution_count": 6,
     "metadata": {},
     "output_type": "execute_result"
    }
   ],
   "source": [
    "# convert data to normal datetime data\n",
    "\n",
    "def datetime_convert(data):\n",
    "    data['from_date_'] = pd.to_datetime(df['from_date'])\n",
    "    data['to_date_'] = pd.to_datetime(df['to_date'])\n",
    "    data['booking_created_'] = pd.to_datetime(df['booking_created'])\n",
    "    data.drop(columns = ['from_date','to_date','booking_created'], axis = 1, inplace = True)\n",
    "    return data\n",
    "\n",
    "datetime_convert(df)\n",
    "df[['from_date_','to_date_','booking_created_']].head()"
   ]
  },
  {
   "cell_type": "code",
   "execution_count": 7,
   "metadata": {},
   "outputs": [
    {
     "data": {
      "text/html": [
       "<div>\n",
       "<style scoped>\n",
       "    .dataframe tbody tr th:only-of-type {\n",
       "        vertical-align: middle;\n",
       "    }\n",
       "\n",
       "    .dataframe tbody tr th {\n",
       "        vertical-align: top;\n",
       "    }\n",
       "\n",
       "    .dataframe thead th {\n",
       "        text-align: right;\n",
       "    }\n",
       "</style>\n",
       "<table border=\"1\" class=\"dataframe\">\n",
       "  <thead>\n",
       "    <tr style=\"text-align: right;\">\n",
       "      <th></th>\n",
       "      <th>vehicle_model_id</th>\n",
       "      <th>package_id</th>\n",
       "      <th>travel_type_id</th>\n",
       "      <th>from_area_id</th>\n",
       "      <th>to_area_id</th>\n",
       "      <th>from_city_id</th>\n",
       "      <th>to_city_id</th>\n",
       "      <th>online_booking</th>\n",
       "      <th>mobile_site_booking</th>\n",
       "      <th>from_lat</th>\n",
       "      <th>from_long</th>\n",
       "      <th>to_lat</th>\n",
       "      <th>to_long</th>\n",
       "      <th>Car_Cancellation</th>\n",
       "      <th>from_date_</th>\n",
       "      <th>to_date_</th>\n",
       "      <th>booking_created_</th>\n",
       "      <th>travel_dist</th>\n",
       "    </tr>\n",
       "  </thead>\n",
       "  <tbody>\n",
       "    <tr>\n",
       "      <th>0</th>\n",
       "      <td>12</td>\n",
       "      <td>NaN</td>\n",
       "      <td>2</td>\n",
       "      <td>1021.0</td>\n",
       "      <td>1323.0</td>\n",
       "      <td>NaN</td>\n",
       "      <td>NaN</td>\n",
       "      <td>0</td>\n",
       "      <td>0</td>\n",
       "      <td>13.028530</td>\n",
       "      <td>77.54625</td>\n",
       "      <td>12.869805</td>\n",
       "      <td>77.653211</td>\n",
       "      <td>0</td>\n",
       "      <td>2013-01-01 22:33:00</td>\n",
       "      <td>NaT</td>\n",
       "      <td>2013-01-01 08:01:00</td>\n",
       "      <td>21.306741</td>\n",
       "    </tr>\n",
       "    <tr>\n",
       "      <th>1</th>\n",
       "      <td>12</td>\n",
       "      <td>NaN</td>\n",
       "      <td>2</td>\n",
       "      <td>455.0</td>\n",
       "      <td>1330.0</td>\n",
       "      <td>NaN</td>\n",
       "      <td>NaN</td>\n",
       "      <td>0</td>\n",
       "      <td>0</td>\n",
       "      <td>12.999874</td>\n",
       "      <td>77.67812</td>\n",
       "      <td>12.953434</td>\n",
       "      <td>77.706510</td>\n",
       "      <td>0</td>\n",
       "      <td>2013-01-01 12:43:00</td>\n",
       "      <td>NaT</td>\n",
       "      <td>2013-01-01 09:59:00</td>\n",
       "      <td>6.059189</td>\n",
       "    </tr>\n",
       "    <tr>\n",
       "      <th>2</th>\n",
       "      <td>12</td>\n",
       "      <td>NaN</td>\n",
       "      <td>2</td>\n",
       "      <td>814.0</td>\n",
       "      <td>393.0</td>\n",
       "      <td>NaN</td>\n",
       "      <td>NaN</td>\n",
       "      <td>1</td>\n",
       "      <td>0</td>\n",
       "      <td>12.908993</td>\n",
       "      <td>77.68890</td>\n",
       "      <td>13.199560</td>\n",
       "      <td>77.706880</td>\n",
       "      <td>0</td>\n",
       "      <td>2013-01-02 00:28:00</td>\n",
       "      <td>2013-01-03</td>\n",
       "      <td>2013-01-01 12:14:00</td>\n",
       "      <td>32.407786</td>\n",
       "    </tr>\n",
       "    <tr>\n",
       "      <th>3</th>\n",
       "      <td>12</td>\n",
       "      <td>NaN</td>\n",
       "      <td>2</td>\n",
       "      <td>297.0</td>\n",
       "      <td>212.0</td>\n",
       "      <td>NaN</td>\n",
       "      <td>NaN</td>\n",
       "      <td>0</td>\n",
       "      <td>0</td>\n",
       "      <td>12.997890</td>\n",
       "      <td>77.61488</td>\n",
       "      <td>12.994740</td>\n",
       "      <td>77.607970</td>\n",
       "      <td>0</td>\n",
       "      <td>2013-01-01 13:12:00</td>\n",
       "      <td>NaT</td>\n",
       "      <td>2013-01-01 12:42:00</td>\n",
       "      <td>0.845377</td>\n",
       "    </tr>\n",
       "    <tr>\n",
       "      <th>4</th>\n",
       "      <td>28</td>\n",
       "      <td>NaN</td>\n",
       "      <td>2</td>\n",
       "      <td>1237.0</td>\n",
       "      <td>330.0</td>\n",
       "      <td>NaN</td>\n",
       "      <td>NaN</td>\n",
       "      <td>0</td>\n",
       "      <td>0</td>\n",
       "      <td>12.926450</td>\n",
       "      <td>77.61206</td>\n",
       "      <td>12.858833</td>\n",
       "      <td>77.589127</td>\n",
       "      <td>0</td>\n",
       "      <td>2013-01-01 16:33:00</td>\n",
       "      <td>NaT</td>\n",
       "      <td>2013-01-01 15:07:00</td>\n",
       "      <td>7.948265</td>\n",
       "    </tr>\n",
       "  </tbody>\n",
       "</table>\n",
       "</div>"
      ],
      "text/plain": [
       "   vehicle_model_id  package_id  travel_type_id  from_area_id  to_area_id  \\\n",
       "0                12         NaN               2        1021.0      1323.0   \n",
       "1                12         NaN               2         455.0      1330.0   \n",
       "2                12         NaN               2         814.0       393.0   \n",
       "3                12         NaN               2         297.0       212.0   \n",
       "4                28         NaN               2        1237.0       330.0   \n",
       "\n",
       "   from_city_id  to_city_id  online_booking  mobile_site_booking   from_lat  \\\n",
       "0           NaN         NaN               0                    0  13.028530   \n",
       "1           NaN         NaN               0                    0  12.999874   \n",
       "2           NaN         NaN               1                    0  12.908993   \n",
       "3           NaN         NaN               0                    0  12.997890   \n",
       "4           NaN         NaN               0                    0  12.926450   \n",
       "\n",
       "   from_long     to_lat    to_long  Car_Cancellation          from_date_  \\\n",
       "0   77.54625  12.869805  77.653211                 0 2013-01-01 22:33:00   \n",
       "1   77.67812  12.953434  77.706510                 0 2013-01-01 12:43:00   \n",
       "2   77.68890  13.199560  77.706880                 0 2013-01-02 00:28:00   \n",
       "3   77.61488  12.994740  77.607970                 0 2013-01-01 13:12:00   \n",
       "4   77.61206  12.858833  77.589127                 0 2013-01-01 16:33:00   \n",
       "\n",
       "    to_date_    booking_created_  travel_dist  \n",
       "0        NaT 2013-01-01 08:01:00    21.306741  \n",
       "1        NaT 2013-01-01 09:59:00     6.059189  \n",
       "2 2013-01-03 2013-01-01 12:14:00    32.407786  \n",
       "3        NaT 2013-01-01 12:42:00     0.845377  \n",
       "4        NaT 2013-01-01 15:07:00     7.948265  "
      ]
     },
     "execution_count": 7,
     "metadata": {},
     "output_type": "execute_result"
    }
   ],
   "source": [
    "# convert về khoảng cách tính bằng km\n",
    "def cordinate_convert(data):\n",
    "    data['travel_dist'] = (np.sqrt((data['from_lat'] - data['to_lat'])**2 + (data['from_long'] - data['to_long'])**2))*111.32\n",
    "    return data\n",
    "\n",
    "\n",
    "cordinate_convert(df)\n",
    "df.head()"
   ]
  },
  {
   "cell_type": "code",
   "execution_count": 8,
   "metadata": {},
   "outputs": [
    {
     "data": {
      "text/html": [
       "<div>\n",
       "<style scoped>\n",
       "    .dataframe tbody tr th:only-of-type {\n",
       "        vertical-align: middle;\n",
       "    }\n",
       "\n",
       "    .dataframe tbody tr th {\n",
       "        vertical-align: top;\n",
       "    }\n",
       "\n",
       "    .dataframe thead th {\n",
       "        text-align: right;\n",
       "    }\n",
       "</style>\n",
       "<table border=\"1\" class=\"dataframe\">\n",
       "  <thead>\n",
       "    <tr style=\"text-align: right;\">\n",
       "      <th></th>\n",
       "      <th>Total missing</th>\n",
       "      <th>Missing percent</th>\n",
       "    </tr>\n",
       "  </thead>\n",
       "  <tbody>\n",
       "    <tr>\n",
       "      <th>to_city_id</th>\n",
       "      <td>9661</td>\n",
       "      <td>0.9661</td>\n",
       "    </tr>\n",
       "    <tr>\n",
       "      <th>package_id</th>\n",
       "      <td>8248</td>\n",
       "      <td>0.8248</td>\n",
       "    </tr>\n",
       "    <tr>\n",
       "      <th>from_city_id</th>\n",
       "      <td>6294</td>\n",
       "      <td>0.6294</td>\n",
       "    </tr>\n",
       "    <tr>\n",
       "      <th>to_date_</th>\n",
       "      <td>4178</td>\n",
       "      <td>0.4178</td>\n",
       "    </tr>\n",
       "    <tr>\n",
       "      <th>to_area_id</th>\n",
       "      <td>2091</td>\n",
       "      <td>0.2091</td>\n",
       "    </tr>\n",
       "    <tr>\n",
       "      <th>to_lat</th>\n",
       "      <td>2091</td>\n",
       "      <td>0.2091</td>\n",
       "    </tr>\n",
       "    <tr>\n",
       "      <th>to_long</th>\n",
       "      <td>2091</td>\n",
       "      <td>0.2091</td>\n",
       "    </tr>\n",
       "    <tr>\n",
       "      <th>travel_dist</th>\n",
       "      <td>2091</td>\n",
       "      <td>0.2091</td>\n",
       "    </tr>\n",
       "    <tr>\n",
       "      <th>from_area_id</th>\n",
       "      <td>15</td>\n",
       "      <td>0.0015</td>\n",
       "    </tr>\n",
       "    <tr>\n",
       "      <th>from_lat</th>\n",
       "      <td>15</td>\n",
       "      <td>0.0015</td>\n",
       "    </tr>\n",
       "    <tr>\n",
       "      <th>from_long</th>\n",
       "      <td>15</td>\n",
       "      <td>0.0015</td>\n",
       "    </tr>\n",
       "  </tbody>\n",
       "</table>\n",
       "</div>"
      ],
      "text/plain": [
       "              Total missing  Missing percent\n",
       "to_city_id             9661           0.9661\n",
       "package_id             8248           0.8248\n",
       "from_city_id           6294           0.6294\n",
       "to_date_               4178           0.4178\n",
       "to_area_id             2091           0.2091\n",
       "to_lat                 2091           0.2091\n",
       "to_long                2091           0.2091\n",
       "travel_dist            2091           0.2091\n",
       "from_area_id             15           0.0015\n",
       "from_lat                 15           0.0015\n",
       "from_long                15           0.0015"
      ]
     },
     "execution_count": 8,
     "metadata": {},
     "output_type": "execute_result"
    }
   ],
   "source": [
    "#check missing data\n",
    "def missing_table(data):\n",
    "    missing_var = data.isnull().sum()\n",
    "    missing_percent = data.isnull().sum()/len(data)\n",
    "    missing_table = pd.concat([missing_var, missing_percent], axis =1 )\n",
    "    missing_table = missing_table.rename(columns = {0 :'Total missing', 1:'Missing percent'})\n",
    "    missing_table = missing_table[missing_table['Missing percent'] != 0].sort_values('Missing percent', ascending=False)\n",
    "    return missing_table\n",
    "\n",
    "missing_table(df)"
   ]
  },
  {
   "cell_type": "markdown",
   "metadata": {},
   "source": [
    "Nhận xét:\n",
    "* 1. Số lượng missing của tọa độ đến và đi trùng lặp với số lượng missing của area đến và đi\n",
    "* 2. Ba trường thông tin có số lượng missing nhiều nhất là to_city_id, package_id, from_city_id\n"
   ]
  },
  {
   "cell_type": "markdown",
   "metadata": {},
   "source": [
    "Trước hết về số lượng missing của tọa độ đến và đi trùng lặp với số lượng missing của area đến và đi. Chúng ta có thể tạm đưa ra giả định là hệ thống xác định area ID dựa trên tọa độ, trong trường hợp không có tọa độ, ID này sẽ bị missing."
   ]
  },
  {
   "cell_type": "code",
   "execution_count": 9,
   "metadata": {},
   "outputs": [
    {
     "name": "stdout",
     "output_type": "stream",
     "text": [
      "0 0\n"
     ]
    }
   ],
   "source": [
    "print(df['from_area_id'][df['from_lat'].isnull()].notnull().sum(),\n",
    "      df['from_lat'][df['from_area_id'].isnull()].notnull().sum())"
   ]
  },
  {
   "cell_type": "code",
   "execution_count": 10,
   "metadata": {},
   "outputs": [
    {
     "name": "stdout",
     "output_type": "stream",
     "text": [
      "0 0\n"
     ]
    }
   ],
   "source": [
    "print(df['to_area_id'][df['to_lat'].isnull()].notnull().sum(),\n",
    "      df['to_lat'][df['to_area_id'].isnull()].notnull().sum())"
   ]
  },
  {
   "cell_type": "markdown",
   "metadata": {},
   "source": [
    "Lệnh trên trả về số lượng dữ liệu trong đó số liệu về tọa độ missing nhưng số liệu về ID area không missing. Kết quả kiểm tra đối với from_area và to_area đều là 0. Như vậy trong trường dữ liệu của chúng ta, tất cả dữ liệu có thông tin về tọa độ, đều có thông tin về area ID và ngược lại."
   ]
  },
  {
   "cell_type": "code",
   "execution_count": 11,
   "metadata": {},
   "outputs": [
    {
     "data": {
      "text/html": [
       "<div>\n",
       "<style scoped>\n",
       "    .dataframe tbody tr th:only-of-type {\n",
       "        vertical-align: middle;\n",
       "    }\n",
       "\n",
       "    .dataframe tbody tr th {\n",
       "        vertical-align: top;\n",
       "    }\n",
       "\n",
       "    .dataframe thead th {\n",
       "        text-align: right;\n",
       "    }\n",
       "</style>\n",
       "<table border=\"1\" class=\"dataframe\">\n",
       "  <thead>\n",
       "    <tr style=\"text-align: right;\">\n",
       "      <th></th>\n",
       "      <th>vehicle_model_id</th>\n",
       "      <th>package_id</th>\n",
       "      <th>travel_type_id</th>\n",
       "      <th>from_area_id</th>\n",
       "      <th>to_area_id</th>\n",
       "      <th>from_city_id</th>\n",
       "      <th>to_city_id</th>\n",
       "      <th>online_booking</th>\n",
       "      <th>mobile_site_booking</th>\n",
       "      <th>from_lat</th>\n",
       "      <th>from_long</th>\n",
       "      <th>to_lat</th>\n",
       "      <th>to_long</th>\n",
       "      <th>Car_Cancellation</th>\n",
       "      <th>from_date_</th>\n",
       "      <th>to_date_</th>\n",
       "      <th>booking_created_</th>\n",
       "      <th>travel_dist</th>\n",
       "    </tr>\n",
       "  </thead>\n",
       "  <tbody>\n",
       "    <tr>\n",
       "      <th>1449</th>\n",
       "      <td>54</td>\n",
       "      <td>NaN</td>\n",
       "      <td>1</td>\n",
       "      <td>NaN</td>\n",
       "      <td>NaN</td>\n",
       "      <td>15.0</td>\n",
       "      <td>32.0</td>\n",
       "      <td>1</td>\n",
       "      <td>0</td>\n",
       "      <td>NaN</td>\n",
       "      <td>NaN</td>\n",
       "      <td>NaN</td>\n",
       "      <td>NaN</td>\n",
       "      <td>0</td>\n",
       "      <td>2013-03-09 19:26:00</td>\n",
       "      <td>2013-03-10 00:00:00</td>\n",
       "      <td>2013-03-09 16:24:00</td>\n",
       "      <td>NaN</td>\n",
       "    </tr>\n",
       "    <tr>\n",
       "      <th>1959</th>\n",
       "      <td>12</td>\n",
       "      <td>NaN</td>\n",
       "      <td>1</td>\n",
       "      <td>NaN</td>\n",
       "      <td>NaN</td>\n",
       "      <td>15.0</td>\n",
       "      <td>29.0</td>\n",
       "      <td>1</td>\n",
       "      <td>0</td>\n",
       "      <td>NaN</td>\n",
       "      <td>NaN</td>\n",
       "      <td>NaN</td>\n",
       "      <td>NaN</td>\n",
       "      <td>0</td>\n",
       "      <td>2013-04-04 14:09:00</td>\n",
       "      <td>2013-04-05 00:00:00</td>\n",
       "      <td>2013-04-04 10:59:00</td>\n",
       "      <td>NaN</td>\n",
       "    </tr>\n",
       "    <tr>\n",
       "      <th>2441</th>\n",
       "      <td>28</td>\n",
       "      <td>NaN</td>\n",
       "      <td>1</td>\n",
       "      <td>NaN</td>\n",
       "      <td>NaN</td>\n",
       "      <td>15.0</td>\n",
       "      <td>146.0</td>\n",
       "      <td>0</td>\n",
       "      <td>0</td>\n",
       "      <td>NaN</td>\n",
       "      <td>NaN</td>\n",
       "      <td>NaN</td>\n",
       "      <td>NaN</td>\n",
       "      <td>0</td>\n",
       "      <td>2013-04-26 17:02:00</td>\n",
       "      <td>2013-04-27 17:00:00</td>\n",
       "      <td>2013-04-25 22:17:00</td>\n",
       "      <td>NaN</td>\n",
       "    </tr>\n",
       "    <tr>\n",
       "      <th>3961</th>\n",
       "      <td>13</td>\n",
       "      <td>NaN</td>\n",
       "      <td>1</td>\n",
       "      <td>NaN</td>\n",
       "      <td>NaN</td>\n",
       "      <td>15.0</td>\n",
       "      <td>29.0</td>\n",
       "      <td>1</td>\n",
       "      <td>0</td>\n",
       "      <td>NaN</td>\n",
       "      <td>NaN</td>\n",
       "      <td>NaN</td>\n",
       "      <td>NaN</td>\n",
       "      <td>0</td>\n",
       "      <td>2013-06-12 17:02:00</td>\n",
       "      <td>2013-06-13 00:00:00</td>\n",
       "      <td>2013-06-12 13:46:00</td>\n",
       "      <td>NaN</td>\n",
       "    </tr>\n",
       "    <tr>\n",
       "      <th>3970</th>\n",
       "      <td>65</td>\n",
       "      <td>NaN</td>\n",
       "      <td>1</td>\n",
       "      <td>NaN</td>\n",
       "      <td>NaN</td>\n",
       "      <td>15.0</td>\n",
       "      <td>55.0</td>\n",
       "      <td>1</td>\n",
       "      <td>0</td>\n",
       "      <td>NaN</td>\n",
       "      <td>NaN</td>\n",
       "      <td>NaN</td>\n",
       "      <td>NaN</td>\n",
       "      <td>0</td>\n",
       "      <td>2013-06-12 22:19:00</td>\n",
       "      <td>2013-06-13 00:00:00</td>\n",
       "      <td>2013-06-12 19:05:00</td>\n",
       "      <td>NaN</td>\n",
       "    </tr>\n",
       "    <tr>\n",
       "      <th>4222</th>\n",
       "      <td>24</td>\n",
       "      <td>NaN</td>\n",
       "      <td>1</td>\n",
       "      <td>NaN</td>\n",
       "      <td>NaN</td>\n",
       "      <td>15.0</td>\n",
       "      <td>146.0</td>\n",
       "      <td>1</td>\n",
       "      <td>0</td>\n",
       "      <td>NaN</td>\n",
       "      <td>NaN</td>\n",
       "      <td>NaN</td>\n",
       "      <td>NaN</td>\n",
       "      <td>0</td>\n",
       "      <td>2013-06-21 22:48:00</td>\n",
       "      <td>2013-06-22 00:00:00</td>\n",
       "      <td>2013-06-21 19:38:00</td>\n",
       "      <td>NaN</td>\n",
       "    </tr>\n",
       "    <tr>\n",
       "      <th>4725</th>\n",
       "      <td>12</td>\n",
       "      <td>NaN</td>\n",
       "      <td>1</td>\n",
       "      <td>NaN</td>\n",
       "      <td>NaN</td>\n",
       "      <td>15.0</td>\n",
       "      <td>32.0</td>\n",
       "      <td>0</td>\n",
       "      <td>0</td>\n",
       "      <td>NaN</td>\n",
       "      <td>NaN</td>\n",
       "      <td>NaN</td>\n",
       "      <td>NaN</td>\n",
       "      <td>0</td>\n",
       "      <td>2013-07-07 07:55:00</td>\n",
       "      <td>2013-07-07 00:00:00</td>\n",
       "      <td>2013-07-06 22:34:00</td>\n",
       "      <td>NaN</td>\n",
       "    </tr>\n",
       "    <tr>\n",
       "      <th>5114</th>\n",
       "      <td>12</td>\n",
       "      <td>NaN</td>\n",
       "      <td>1</td>\n",
       "      <td>NaN</td>\n",
       "      <td>NaN</td>\n",
       "      <td>15.0</td>\n",
       "      <td>32.0</td>\n",
       "      <td>1</td>\n",
       "      <td>0</td>\n",
       "      <td>NaN</td>\n",
       "      <td>NaN</td>\n",
       "      <td>NaN</td>\n",
       "      <td>NaN</td>\n",
       "      <td>0</td>\n",
       "      <td>2013-07-19 00:57:00</td>\n",
       "      <td>2013-07-19 23:59:00</td>\n",
       "      <td>2013-07-18 21:58:00</td>\n",
       "      <td>NaN</td>\n",
       "    </tr>\n",
       "    <tr>\n",
       "      <th>5141</th>\n",
       "      <td>12</td>\n",
       "      <td>NaN</td>\n",
       "      <td>1</td>\n",
       "      <td>NaN</td>\n",
       "      <td>NaN</td>\n",
       "      <td>15.0</td>\n",
       "      <td>29.0</td>\n",
       "      <td>1</td>\n",
       "      <td>0</td>\n",
       "      <td>NaN</td>\n",
       "      <td>NaN</td>\n",
       "      <td>NaN</td>\n",
       "      <td>NaN</td>\n",
       "      <td>0</td>\n",
       "      <td>2013-07-19 18:14:00</td>\n",
       "      <td>2013-07-20 23:59:00</td>\n",
       "      <td>2013-07-19 15:29:00</td>\n",
       "      <td>NaN</td>\n",
       "    </tr>\n",
       "    <tr>\n",
       "      <th>5160</th>\n",
       "      <td>12</td>\n",
       "      <td>NaN</td>\n",
       "      <td>1</td>\n",
       "      <td>NaN</td>\n",
       "      <td>NaN</td>\n",
       "      <td>15.0</td>\n",
       "      <td>32.0</td>\n",
       "      <td>1</td>\n",
       "      <td>0</td>\n",
       "      <td>NaN</td>\n",
       "      <td>NaN</td>\n",
       "      <td>NaN</td>\n",
       "      <td>NaN</td>\n",
       "      <td>0</td>\n",
       "      <td>2013-07-20 00:57:00</td>\n",
       "      <td>2013-07-20 23:59:00</td>\n",
       "      <td>2013-07-19 21:44:00</td>\n",
       "      <td>NaN</td>\n",
       "    </tr>\n",
       "    <tr>\n",
       "      <th>6530</th>\n",
       "      <td>65</td>\n",
       "      <td>NaN</td>\n",
       "      <td>1</td>\n",
       "      <td>NaN</td>\n",
       "      <td>NaN</td>\n",
       "      <td>15.0</td>\n",
       "      <td>146.0</td>\n",
       "      <td>1</td>\n",
       "      <td>0</td>\n",
       "      <td>NaN</td>\n",
       "      <td>NaN</td>\n",
       "      <td>NaN</td>\n",
       "      <td>NaN</td>\n",
       "      <td>0</td>\n",
       "      <td>2013-08-26 07:40:00</td>\n",
       "      <td>2013-08-27 23:59:00</td>\n",
       "      <td>2013-08-26 04:29:00</td>\n",
       "      <td>NaN</td>\n",
       "    </tr>\n",
       "    <tr>\n",
       "      <th>6572</th>\n",
       "      <td>70</td>\n",
       "      <td>NaN</td>\n",
       "      <td>1</td>\n",
       "      <td>NaN</td>\n",
       "      <td>NaN</td>\n",
       "      <td>15.0</td>\n",
       "      <td>53.0</td>\n",
       "      <td>1</td>\n",
       "      <td>0</td>\n",
       "      <td>NaN</td>\n",
       "      <td>NaN</td>\n",
       "      <td>NaN</td>\n",
       "      <td>NaN</td>\n",
       "      <td>0</td>\n",
       "      <td>2013-08-27 22:04:00</td>\n",
       "      <td>2013-08-28 23:59:00</td>\n",
       "      <td>2013-08-27 18:58:00</td>\n",
       "      <td>NaN</td>\n",
       "    </tr>\n",
       "    <tr>\n",
       "      <th>8225</th>\n",
       "      <td>65</td>\n",
       "      <td>NaN</td>\n",
       "      <td>1</td>\n",
       "      <td>NaN</td>\n",
       "      <td>NaN</td>\n",
       "      <td>15.0</td>\n",
       "      <td>32.0</td>\n",
       "      <td>1</td>\n",
       "      <td>0</td>\n",
       "      <td>NaN</td>\n",
       "      <td>NaN</td>\n",
       "      <td>NaN</td>\n",
       "      <td>NaN</td>\n",
       "      <td>0</td>\n",
       "      <td>2013-10-15 20:09:00</td>\n",
       "      <td>2013-10-16 23:59:00</td>\n",
       "      <td>2013-10-15 17:11:00</td>\n",
       "      <td>NaN</td>\n",
       "    </tr>\n",
       "    <tr>\n",
       "      <th>8435</th>\n",
       "      <td>65</td>\n",
       "      <td>NaN</td>\n",
       "      <td>1</td>\n",
       "      <td>NaN</td>\n",
       "      <td>NaN</td>\n",
       "      <td>15.0</td>\n",
       "      <td>55.0</td>\n",
       "      <td>1</td>\n",
       "      <td>0</td>\n",
       "      <td>NaN</td>\n",
       "      <td>NaN</td>\n",
       "      <td>NaN</td>\n",
       "      <td>NaN</td>\n",
       "      <td>0</td>\n",
       "      <td>2013-10-25 12:57:00</td>\n",
       "      <td>2013-10-25 00:00:00</td>\n",
       "      <td>2013-10-22 22:37:00</td>\n",
       "      <td>NaN</td>\n",
       "    </tr>\n",
       "    <tr>\n",
       "      <th>8509</th>\n",
       "      <td>65</td>\n",
       "      <td>NaN</td>\n",
       "      <td>1</td>\n",
       "      <td>NaN</td>\n",
       "      <td>NaN</td>\n",
       "      <td>15.0</td>\n",
       "      <td>69.0</td>\n",
       "      <td>1</td>\n",
       "      <td>0</td>\n",
       "      <td>NaN</td>\n",
       "      <td>NaN</td>\n",
       "      <td>NaN</td>\n",
       "      <td>NaN</td>\n",
       "      <td>0</td>\n",
       "      <td>2013-10-25 14:38:00</td>\n",
       "      <td>2013-10-26 23:59:00</td>\n",
       "      <td>2013-10-25 11:41:00</td>\n",
       "      <td>NaN</td>\n",
       "    </tr>\n",
       "  </tbody>\n",
       "</table>\n",
       "</div>"
      ],
      "text/plain": [
       "      vehicle_model_id  package_id  travel_type_id  from_area_id  to_area_id  \\\n",
       "1449                54         NaN               1           NaN         NaN   \n",
       "1959                12         NaN               1           NaN         NaN   \n",
       "2441                28         NaN               1           NaN         NaN   \n",
       "3961                13         NaN               1           NaN         NaN   \n",
       "3970                65         NaN               1           NaN         NaN   \n",
       "4222                24         NaN               1           NaN         NaN   \n",
       "4725                12         NaN               1           NaN         NaN   \n",
       "5114                12         NaN               1           NaN         NaN   \n",
       "5141                12         NaN               1           NaN         NaN   \n",
       "5160                12         NaN               1           NaN         NaN   \n",
       "6530                65         NaN               1           NaN         NaN   \n",
       "6572                70         NaN               1           NaN         NaN   \n",
       "8225                65         NaN               1           NaN         NaN   \n",
       "8435                65         NaN               1           NaN         NaN   \n",
       "8509                65         NaN               1           NaN         NaN   \n",
       "\n",
       "      from_city_id  to_city_id  online_booking  mobile_site_booking  from_lat  \\\n",
       "1449          15.0        32.0               1                    0       NaN   \n",
       "1959          15.0        29.0               1                    0       NaN   \n",
       "2441          15.0       146.0               0                    0       NaN   \n",
       "3961          15.0        29.0               1                    0       NaN   \n",
       "3970          15.0        55.0               1                    0       NaN   \n",
       "4222          15.0       146.0               1                    0       NaN   \n",
       "4725          15.0        32.0               0                    0       NaN   \n",
       "5114          15.0        32.0               1                    0       NaN   \n",
       "5141          15.0        29.0               1                    0       NaN   \n",
       "5160          15.0        32.0               1                    0       NaN   \n",
       "6530          15.0       146.0               1                    0       NaN   \n",
       "6572          15.0        53.0               1                    0       NaN   \n",
       "8225          15.0        32.0               1                    0       NaN   \n",
       "8435          15.0        55.0               1                    0       NaN   \n",
       "8509          15.0        69.0               1                    0       NaN   \n",
       "\n",
       "      from_long  to_lat  to_long  Car_Cancellation          from_date_  \\\n",
       "1449        NaN     NaN      NaN                 0 2013-03-09 19:26:00   \n",
       "1959        NaN     NaN      NaN                 0 2013-04-04 14:09:00   \n",
       "2441        NaN     NaN      NaN                 0 2013-04-26 17:02:00   \n",
       "3961        NaN     NaN      NaN                 0 2013-06-12 17:02:00   \n",
       "3970        NaN     NaN      NaN                 0 2013-06-12 22:19:00   \n",
       "4222        NaN     NaN      NaN                 0 2013-06-21 22:48:00   \n",
       "4725        NaN     NaN      NaN                 0 2013-07-07 07:55:00   \n",
       "5114        NaN     NaN      NaN                 0 2013-07-19 00:57:00   \n",
       "5141        NaN     NaN      NaN                 0 2013-07-19 18:14:00   \n",
       "5160        NaN     NaN      NaN                 0 2013-07-20 00:57:00   \n",
       "6530        NaN     NaN      NaN                 0 2013-08-26 07:40:00   \n",
       "6572        NaN     NaN      NaN                 0 2013-08-27 22:04:00   \n",
       "8225        NaN     NaN      NaN                 0 2013-10-15 20:09:00   \n",
       "8435        NaN     NaN      NaN                 0 2013-10-25 12:57:00   \n",
       "8509        NaN     NaN      NaN                 0 2013-10-25 14:38:00   \n",
       "\n",
       "                to_date_    booking_created_  travel_dist  \n",
       "1449 2013-03-10 00:00:00 2013-03-09 16:24:00          NaN  \n",
       "1959 2013-04-05 00:00:00 2013-04-04 10:59:00          NaN  \n",
       "2441 2013-04-27 17:00:00 2013-04-25 22:17:00          NaN  \n",
       "3961 2013-06-13 00:00:00 2013-06-12 13:46:00          NaN  \n",
       "3970 2013-06-13 00:00:00 2013-06-12 19:05:00          NaN  \n",
       "4222 2013-06-22 00:00:00 2013-06-21 19:38:00          NaN  \n",
       "4725 2013-07-07 00:00:00 2013-07-06 22:34:00          NaN  \n",
       "5114 2013-07-19 23:59:00 2013-07-18 21:58:00          NaN  \n",
       "5141 2013-07-20 23:59:00 2013-07-19 15:29:00          NaN  \n",
       "5160 2013-07-20 23:59:00 2013-07-19 21:44:00          NaN  \n",
       "6530 2013-08-27 23:59:00 2013-08-26 04:29:00          NaN  \n",
       "6572 2013-08-28 23:59:00 2013-08-27 18:58:00          NaN  \n",
       "8225 2013-10-16 23:59:00 2013-10-15 17:11:00          NaN  \n",
       "8435 2013-10-25 00:00:00 2013-10-22 22:37:00          NaN  \n",
       "8509 2013-10-26 23:59:00 2013-10-25 11:41:00          NaN  "
      ]
     },
     "execution_count": 11,
     "metadata": {},
     "output_type": "execute_result"
    }
   ],
   "source": [
    "df[df['from_lat'].isnull()]"
   ]
  },
  {
   "cell_type": "markdown",
   "metadata": {},
   "source": [
    "Trường dữ liệu tọa độ điểm đi là trường thông tin missing thấp nhấp, chỉ có 15 missing trên 10000 điểm dữ liệu.Hơn nữa, hầu hết các thông tin missing này chỉ xảy ra đối với travel_type_id là 1. Do dữ liệu missing ở thuộc tính tọa độ điểm đi này rất ít, cũng như chỉ xảy ra đối với travel type là 1, tạm coi như đây là lỗi hệ thống, và việc dữ liệu missing này sẽ không làm ảnh hưởng đến tập dữ liệu."
   ]
  },
  {
   "cell_type": "code",
   "execution_count": 12,
   "metadata": {},
   "outputs": [],
   "source": [
    "df = df[df['from_lat'].notnull()]"
   ]
  },
  {
   "cell_type": "markdown",
   "metadata": {},
   "source": [
    "# <a id = '2'> 2. Làm rõ mối tương quan giữa city và area </a>"
   ]
  },
  {
   "cell_type": "code",
   "execution_count": 13,
   "metadata": {},
   "outputs": [
    {
     "data": {
      "text/html": [
       "<div>\n",
       "<style scoped>\n",
       "    .dataframe tbody tr th:only-of-type {\n",
       "        vertical-align: middle;\n",
       "    }\n",
       "\n",
       "    .dataframe tbody tr th {\n",
       "        vertical-align: top;\n",
       "    }\n",
       "\n",
       "    .dataframe thead th {\n",
       "        text-align: right;\n",
       "    }\n",
       "</style>\n",
       "<table border=\"1\" class=\"dataframe\">\n",
       "  <thead>\n",
       "    <tr style=\"text-align: right;\">\n",
       "      <th></th>\n",
       "      <th>from_city_id</th>\n",
       "      <th>to_city_id</th>\n",
       "      <th>from_area_id</th>\n",
       "      <th>to_area_id</th>\n",
       "    </tr>\n",
       "  </thead>\n",
       "  <tbody>\n",
       "    <tr>\n",
       "      <th>count</th>\n",
       "      <td>3691.0</td>\n",
       "      <td>324.0</td>\n",
       "      <td>9985.0</td>\n",
       "      <td>7909.0</td>\n",
       "    </tr>\n",
       "    <tr>\n",
       "      <th>unique</th>\n",
       "      <td>2.0</td>\n",
       "      <td>66.0</td>\n",
       "      <td>522.0</td>\n",
       "      <td>479.0</td>\n",
       "    </tr>\n",
       "    <tr>\n",
       "      <th>top</th>\n",
       "      <td>15.0</td>\n",
       "      <td>32.0</td>\n",
       "      <td>393.0</td>\n",
       "      <td>393.0</td>\n",
       "    </tr>\n",
       "    <tr>\n",
       "      <th>freq</th>\n",
       "      <td>3664.0</td>\n",
       "      <td>101.0</td>\n",
       "      <td>897.0</td>\n",
       "      <td>2015.0</td>\n",
       "    </tr>\n",
       "  </tbody>\n",
       "</table>\n",
       "</div>"
      ],
      "text/plain": [
       "        from_city_id  to_city_id  from_area_id  to_area_id\n",
       "count         3691.0       324.0        9985.0      7909.0\n",
       "unique           2.0        66.0         522.0       479.0\n",
       "top             15.0        32.0         393.0       393.0\n",
       "freq          3664.0       101.0         897.0      2015.0"
      ]
     },
     "execution_count": 13,
     "metadata": {},
     "output_type": "execute_result"
    }
   ],
   "source": [
    "df[['from_city_id','to_city_id','from_area_id','to_area_id']].astype('category').describe()"
   ]
  },
  {
   "cell_type": "markdown",
   "metadata": {},
   "source": [
    "Từ thông tin tọa độ điểm đón xe, mọi tài xế đều có khả năng phán đoán được họ sẽ phải đón ở thành phố nào. Thông tin from_city_id là thông tin không cần thiết đối với quá trình ra quyết định của tài xế, có thể drop thuộc tính này.  "
   ]
  },
  {
   "cell_type": "code",
   "execution_count": 14,
   "metadata": {},
   "outputs": [],
   "source": [
    "df.drop(columns = 'from_city_id', inplace = True)"
   ]
  },
  {
   "cell_type": "markdown",
   "metadata": {},
   "source": [
    "print(df['to_city_id'][df['to_area_id'].notnull()].notnull().sum(),\n",
    "      df['to_city_id'][df['to_area_id'].isnull()].notnull().sum(),\n",
    "      df['to_city_id'][df['to_area_id'].notnull()].isnull().sum(),\n",
    "      df['to_city_id'][df['to_area_id'].isnull()].isnull().sum()\n",
    "     )"
   ]
  },
  {
   "cell_type": "markdown",
   "metadata": {},
   "source": [
    "Thuộc tính to_city_id có nhiều phân lớp hơn nhưng lại missing đến 96.6%. Xem xét mối quan hệ đối với thuộc tính to_area_id, thấy có 324 điểm dữ liệu trong đó tập dữ liệu không có thông tin về area ID nhưng lại có thông tin về city ID, và không có điểm dữ liệu nào chứa cả thông tin về area và city."
   ]
  },
  {
   "cell_type": "code",
   "execution_count": 15,
   "metadata": {},
   "outputs": [
    {
     "data": {
      "text/html": [
       "<div>\n",
       "<style scoped>\n",
       "    .dataframe tbody tr th:only-of-type {\n",
       "        vertical-align: middle;\n",
       "    }\n",
       "\n",
       "    .dataframe tbody tr th {\n",
       "        vertical-align: top;\n",
       "    }\n",
       "\n",
       "    .dataframe thead th {\n",
       "        text-align: right;\n",
       "    }\n",
       "</style>\n",
       "<table border=\"1\" class=\"dataframe\">\n",
       "  <thead>\n",
       "    <tr style=\"text-align: right;\">\n",
       "      <th></th>\n",
       "      <th>vehicle_model_id</th>\n",
       "      <th>package_id</th>\n",
       "      <th>travel_type_id</th>\n",
       "      <th>from_area_id</th>\n",
       "      <th>to_area_id</th>\n",
       "      <th>to_city_id</th>\n",
       "      <th>online_booking</th>\n",
       "      <th>mobile_site_booking</th>\n",
       "      <th>from_lat</th>\n",
       "      <th>from_long</th>\n",
       "      <th>to_lat</th>\n",
       "      <th>to_long</th>\n",
       "      <th>Car_Cancellation</th>\n",
       "      <th>from_date_</th>\n",
       "      <th>to_date_</th>\n",
       "      <th>booking_created_</th>\n",
       "      <th>travel_dist</th>\n",
       "    </tr>\n",
       "  </thead>\n",
       "  <tbody>\n",
       "    <tr>\n",
       "      <th>9853</th>\n",
       "      <td>12</td>\n",
       "      <td>NaN</td>\n",
       "      <td>1</td>\n",
       "      <td>393.0</td>\n",
       "      <td>NaN</td>\n",
       "      <td>32.0</td>\n",
       "      <td>1</td>\n",
       "      <td>0</td>\n",
       "      <td>13.199560</td>\n",
       "      <td>77.70688</td>\n",
       "      <td>NaN</td>\n",
       "      <td>NaN</td>\n",
       "      <td>0</td>\n",
       "      <td>2013-04-27 08:09:00</td>\n",
       "      <td>2013-04-27 08:15:00</td>\n",
       "      <td>2013-04-26 22:13:00</td>\n",
       "      <td>NaN</td>\n",
       "    </tr>\n",
       "    <tr>\n",
       "      <th>9928</th>\n",
       "      <td>65</td>\n",
       "      <td>NaN</td>\n",
       "      <td>1</td>\n",
       "      <td>393.0</td>\n",
       "      <td>NaN</td>\n",
       "      <td>32.0</td>\n",
       "      <td>0</td>\n",
       "      <td>0</td>\n",
       "      <td>13.199560</td>\n",
       "      <td>77.70688</td>\n",
       "      <td>NaN</td>\n",
       "      <td>NaN</td>\n",
       "      <td>0</td>\n",
       "      <td>2013-02-20 00:14:00</td>\n",
       "      <td>2013-02-20 00:00:00</td>\n",
       "      <td>2013-02-19 14:18:00</td>\n",
       "      <td>NaN</td>\n",
       "    </tr>\n",
       "    <tr>\n",
       "      <th>9955</th>\n",
       "      <td>12</td>\n",
       "      <td>NaN</td>\n",
       "      <td>1</td>\n",
       "      <td>147.0</td>\n",
       "      <td>NaN</td>\n",
       "      <td>166.0</td>\n",
       "      <td>1</td>\n",
       "      <td>0</td>\n",
       "      <td>12.977544</td>\n",
       "      <td>77.66880</td>\n",
       "      <td>NaN</td>\n",
       "      <td>NaN</td>\n",
       "      <td>0</td>\n",
       "      <td>2013-10-12 06:00:00</td>\n",
       "      <td>NaT</td>\n",
       "      <td>2013-10-11 11:30:00</td>\n",
       "      <td>NaN</td>\n",
       "    </tr>\n",
       "    <tr>\n",
       "      <th>9970</th>\n",
       "      <td>12</td>\n",
       "      <td>NaN</td>\n",
       "      <td>1</td>\n",
       "      <td>1136.0</td>\n",
       "      <td>NaN</td>\n",
       "      <td>179.0</td>\n",
       "      <td>1</td>\n",
       "      <td>0</td>\n",
       "      <td>12.990490</td>\n",
       "      <td>77.69798</td>\n",
       "      <td>NaN</td>\n",
       "      <td>NaN</td>\n",
       "      <td>0</td>\n",
       "      <td>2013-01-12 01:55:00</td>\n",
       "      <td>2013-01-13 02:00:00</td>\n",
       "      <td>2013-01-10 15:59:00</td>\n",
       "      <td>NaN</td>\n",
       "    </tr>\n",
       "    <tr>\n",
       "      <th>9985</th>\n",
       "      <td>85</td>\n",
       "      <td>NaN</td>\n",
       "      <td>1</td>\n",
       "      <td>1286.0</td>\n",
       "      <td>NaN</td>\n",
       "      <td>61.0</td>\n",
       "      <td>1</td>\n",
       "      <td>0</td>\n",
       "      <td>12.973448</td>\n",
       "      <td>77.62032</td>\n",
       "      <td>NaN</td>\n",
       "      <td>NaN</td>\n",
       "      <td>0</td>\n",
       "      <td>2013-05-25 07:55:00</td>\n",
       "      <td>2013-05-26 08:00:00</td>\n",
       "      <td>2013-05-22 20:56:00</td>\n",
       "      <td>NaN</td>\n",
       "    </tr>\n",
       "  </tbody>\n",
       "</table>\n",
       "</div>"
      ],
      "text/plain": [
       "      vehicle_model_id  package_id  travel_type_id  from_area_id  to_area_id  \\\n",
       "9853                12         NaN               1         393.0         NaN   \n",
       "9928                65         NaN               1         393.0         NaN   \n",
       "9955                12         NaN               1         147.0         NaN   \n",
       "9970                12         NaN               1        1136.0         NaN   \n",
       "9985                85         NaN               1        1286.0         NaN   \n",
       "\n",
       "      to_city_id  online_booking  mobile_site_booking   from_lat  from_long  \\\n",
       "9853        32.0               1                    0  13.199560   77.70688   \n",
       "9928        32.0               0                    0  13.199560   77.70688   \n",
       "9955       166.0               1                    0  12.977544   77.66880   \n",
       "9970       179.0               1                    0  12.990490   77.69798   \n",
       "9985        61.0               1                    0  12.973448   77.62032   \n",
       "\n",
       "      to_lat  to_long  Car_Cancellation          from_date_  \\\n",
       "9853     NaN      NaN                 0 2013-04-27 08:09:00   \n",
       "9928     NaN      NaN                 0 2013-02-20 00:14:00   \n",
       "9955     NaN      NaN                 0 2013-10-12 06:00:00   \n",
       "9970     NaN      NaN                 0 2013-01-12 01:55:00   \n",
       "9985     NaN      NaN                 0 2013-05-25 07:55:00   \n",
       "\n",
       "                to_date_    booking_created_  travel_dist  \n",
       "9853 2013-04-27 08:15:00 2013-04-26 22:13:00          NaN  \n",
       "9928 2013-02-20 00:00:00 2013-02-19 14:18:00          NaN  \n",
       "9955                 NaT 2013-10-11 11:30:00          NaN  \n",
       "9970 2013-01-13 02:00:00 2013-01-10 15:59:00          NaN  \n",
       "9985 2013-05-26 08:00:00 2013-05-22 20:56:00          NaN  "
      ]
     },
     "execution_count": 15,
     "metadata": {},
     "output_type": "execute_result"
    }
   ],
   "source": [
    "df[df['to_area_id'].isnull() & df['to_city_id'].notnull()].tail()"
   ]
  },
  {
   "cell_type": "markdown",
   "metadata": {},
   "source": [
    "Đối với travel_type_id là 1, ta không có thông tin về nơi đến cụ thể (thông qua tọa độ điểm đến và to_area_id), thay vào đó là thông tin về thành phố đến. Và số lượng này bằng đúng con số 324. Có vẻ như dữ liệu về to_city_id và to_city_area còn phụ thuộc vào loại hình travel"
   ]
  },
  {
   "cell_type": "code",
   "execution_count": 16,
   "metadata": {},
   "outputs": [
    {
     "data": {
      "text/plain": [
       "324"
      ]
     },
     "execution_count": 16,
     "metadata": {},
     "output_type": "execute_result"
    }
   ],
   "source": [
    "df['travel_type_id'][df['travel_type_id'] == 1].count()"
   ]
  },
  {
   "cell_type": "code",
   "execution_count": 17,
   "metadata": {},
   "outputs": [
    {
     "data": {
      "text/html": [
       "<div>\n",
       "<style scoped>\n",
       "    .dataframe tbody tr th:only-of-type {\n",
       "        vertical-align: middle;\n",
       "    }\n",
       "\n",
       "    .dataframe tbody tr th {\n",
       "        vertical-align: top;\n",
       "    }\n",
       "\n",
       "    .dataframe thead th {\n",
       "        text-align: right;\n",
       "    }\n",
       "</style>\n",
       "<table border=\"1\" class=\"dataframe\">\n",
       "  <thead>\n",
       "    <tr style=\"text-align: right;\">\n",
       "      <th></th>\n",
       "      <th>to_area_id</th>\n",
       "      <th>to_city_id</th>\n",
       "    </tr>\n",
       "    <tr>\n",
       "      <th>travel_type_id</th>\n",
       "      <th></th>\n",
       "      <th></th>\n",
       "    </tr>\n",
       "  </thead>\n",
       "  <tbody>\n",
       "    <tr>\n",
       "      <th>1</th>\n",
       "      <td>0</td>\n",
       "      <td>324</td>\n",
       "    </tr>\n",
       "    <tr>\n",
       "      <th>2</th>\n",
       "      <td>7909</td>\n",
       "      <td>0</td>\n",
       "    </tr>\n",
       "    <tr>\n",
       "      <th>3</th>\n",
       "      <td>0</td>\n",
       "      <td>0</td>\n",
       "    </tr>\n",
       "  </tbody>\n",
       "</table>\n",
       "</div>"
      ],
      "text/plain": [
       "                to_area_id  to_city_id\n",
       "travel_type_id                        \n",
       "1                        0         324\n",
       "2                     7909           0\n",
       "3                        0           0"
      ]
     },
     "execution_count": 17,
     "metadata": {},
     "output_type": "execute_result"
    }
   ],
   "source": [
    "df[['travel_type_id','to_area_id','to_city_id']].groupby('travel_type_id').count()"
   ]
  },
  {
   "cell_type": "markdown",
   "metadata": {},
   "source": [
    "Tổng hợp nhận xét:\n",
    "* Thuê xe đường dài (type 1): Không có data tọa độ, area ID điểm đến, có city ID điểm đến\n",
    "* Thuê xe theo cuốc (type 2): Có tọa độ, area ID điểm đến, không có city ID điểm đến\n",
    "* Thuê xe theo giờ (type 3): Không có bất kỳ dữ liệu về tọa độ, area ID, city ID\n",
    "\n",
    "Có vẻ như dữ liệu là dữ liệu tổng hợp từ ba bảng khác nhau. Mỗi bảng là một loại hình travel và có cách ghi nhận điểm đến khách nhau"
   ]
  },
  {
   "cell_type": "code",
   "execution_count": 18,
   "metadata": {},
   "outputs": [
    {
     "data": {
      "text/html": [
       "<div>\n",
       "<style scoped>\n",
       "    .dataframe tbody tr th:only-of-type {\n",
       "        vertical-align: middle;\n",
       "    }\n",
       "\n",
       "    .dataframe tbody tr th {\n",
       "        vertical-align: top;\n",
       "    }\n",
       "\n",
       "    .dataframe thead th {\n",
       "        text-align: right;\n",
       "    }\n",
       "</style>\n",
       "<table border=\"1\" class=\"dataframe\">\n",
       "  <thead>\n",
       "    <tr style=\"text-align: right;\">\n",
       "      <th></th>\n",
       "      <th>vehicle_model_id</th>\n",
       "      <th>package_id</th>\n",
       "      <th>travel_type_id</th>\n",
       "      <th>from_area_id</th>\n",
       "      <th>to_area_id</th>\n",
       "      <th>to_city_id</th>\n",
       "      <th>online_booking</th>\n",
       "      <th>mobile_site_booking</th>\n",
       "      <th>from_lat</th>\n",
       "      <th>from_long</th>\n",
       "      <th>to_lat</th>\n",
       "      <th>to_long</th>\n",
       "      <th>Car_Cancellation</th>\n",
       "      <th>from_date_</th>\n",
       "      <th>to_date_</th>\n",
       "      <th>booking_created_</th>\n",
       "      <th>travel_dist</th>\n",
       "      <th>Long_travel</th>\n",
       "      <th>PtP</th>\n",
       "      <th>Hourly</th>\n",
       "    </tr>\n",
       "  </thead>\n",
       "  <tbody>\n",
       "    <tr>\n",
       "      <th>0</th>\n",
       "      <td>12</td>\n",
       "      <td>NaN</td>\n",
       "      <td>2</td>\n",
       "      <td>1021.0</td>\n",
       "      <td>1323.0</td>\n",
       "      <td>NaN</td>\n",
       "      <td>0</td>\n",
       "      <td>0</td>\n",
       "      <td>13.028530</td>\n",
       "      <td>77.54625</td>\n",
       "      <td>12.869805</td>\n",
       "      <td>77.653211</td>\n",
       "      <td>0</td>\n",
       "      <td>2013-01-01 22:33:00</td>\n",
       "      <td>NaT</td>\n",
       "      <td>2013-01-01 08:01:00</td>\n",
       "      <td>21.306741</td>\n",
       "      <td>0</td>\n",
       "      <td>1</td>\n",
       "      <td>0</td>\n",
       "    </tr>\n",
       "    <tr>\n",
       "      <th>1</th>\n",
       "      <td>12</td>\n",
       "      <td>NaN</td>\n",
       "      <td>2</td>\n",
       "      <td>455.0</td>\n",
       "      <td>1330.0</td>\n",
       "      <td>NaN</td>\n",
       "      <td>0</td>\n",
       "      <td>0</td>\n",
       "      <td>12.999874</td>\n",
       "      <td>77.67812</td>\n",
       "      <td>12.953434</td>\n",
       "      <td>77.706510</td>\n",
       "      <td>0</td>\n",
       "      <td>2013-01-01 12:43:00</td>\n",
       "      <td>NaT</td>\n",
       "      <td>2013-01-01 09:59:00</td>\n",
       "      <td>6.059189</td>\n",
       "      <td>0</td>\n",
       "      <td>1</td>\n",
       "      <td>0</td>\n",
       "    </tr>\n",
       "    <tr>\n",
       "      <th>2</th>\n",
       "      <td>12</td>\n",
       "      <td>NaN</td>\n",
       "      <td>2</td>\n",
       "      <td>814.0</td>\n",
       "      <td>393.0</td>\n",
       "      <td>NaN</td>\n",
       "      <td>1</td>\n",
       "      <td>0</td>\n",
       "      <td>12.908993</td>\n",
       "      <td>77.68890</td>\n",
       "      <td>13.199560</td>\n",
       "      <td>77.706880</td>\n",
       "      <td>0</td>\n",
       "      <td>2013-01-02 00:28:00</td>\n",
       "      <td>2013-01-03</td>\n",
       "      <td>2013-01-01 12:14:00</td>\n",
       "      <td>32.407786</td>\n",
       "      <td>0</td>\n",
       "      <td>1</td>\n",
       "      <td>0</td>\n",
       "    </tr>\n",
       "    <tr>\n",
       "      <th>3</th>\n",
       "      <td>12</td>\n",
       "      <td>NaN</td>\n",
       "      <td>2</td>\n",
       "      <td>297.0</td>\n",
       "      <td>212.0</td>\n",
       "      <td>NaN</td>\n",
       "      <td>0</td>\n",
       "      <td>0</td>\n",
       "      <td>12.997890</td>\n",
       "      <td>77.61488</td>\n",
       "      <td>12.994740</td>\n",
       "      <td>77.607970</td>\n",
       "      <td>0</td>\n",
       "      <td>2013-01-01 13:12:00</td>\n",
       "      <td>NaT</td>\n",
       "      <td>2013-01-01 12:42:00</td>\n",
       "      <td>0.845377</td>\n",
       "      <td>0</td>\n",
       "      <td>1</td>\n",
       "      <td>0</td>\n",
       "    </tr>\n",
       "    <tr>\n",
       "      <th>4</th>\n",
       "      <td>28</td>\n",
       "      <td>NaN</td>\n",
       "      <td>2</td>\n",
       "      <td>1237.0</td>\n",
       "      <td>330.0</td>\n",
       "      <td>NaN</td>\n",
       "      <td>0</td>\n",
       "      <td>0</td>\n",
       "      <td>12.926450</td>\n",
       "      <td>77.61206</td>\n",
       "      <td>12.858833</td>\n",
       "      <td>77.589127</td>\n",
       "      <td>0</td>\n",
       "      <td>2013-01-01 16:33:00</td>\n",
       "      <td>NaT</td>\n",
       "      <td>2013-01-01 15:07:00</td>\n",
       "      <td>7.948265</td>\n",
       "      <td>0</td>\n",
       "      <td>1</td>\n",
       "      <td>0</td>\n",
       "    </tr>\n",
       "  </tbody>\n",
       "</table>\n",
       "</div>"
      ],
      "text/plain": [
       "   vehicle_model_id  package_id  travel_type_id  from_area_id  to_area_id  \\\n",
       "0                12         NaN               2        1021.0      1323.0   \n",
       "1                12         NaN               2         455.0      1330.0   \n",
       "2                12         NaN               2         814.0       393.0   \n",
       "3                12         NaN               2         297.0       212.0   \n",
       "4                28         NaN               2        1237.0       330.0   \n",
       "\n",
       "   to_city_id  online_booking  mobile_site_booking   from_lat  from_long  \\\n",
       "0         NaN               0                    0  13.028530   77.54625   \n",
       "1         NaN               0                    0  12.999874   77.67812   \n",
       "2         NaN               1                    0  12.908993   77.68890   \n",
       "3         NaN               0                    0  12.997890   77.61488   \n",
       "4         NaN               0                    0  12.926450   77.61206   \n",
       "\n",
       "      to_lat    to_long  Car_Cancellation          from_date_   to_date_  \\\n",
       "0  12.869805  77.653211                 0 2013-01-01 22:33:00        NaT   \n",
       "1  12.953434  77.706510                 0 2013-01-01 12:43:00        NaT   \n",
       "2  13.199560  77.706880                 0 2013-01-02 00:28:00 2013-01-03   \n",
       "3  12.994740  77.607970                 0 2013-01-01 13:12:00        NaT   \n",
       "4  12.858833  77.589127                 0 2013-01-01 16:33:00        NaT   \n",
       "\n",
       "     booking_created_  travel_dist  Long_travel  PtP  Hourly  \n",
       "0 2013-01-01 08:01:00    21.306741            0    1       0  \n",
       "1 2013-01-01 09:59:00     6.059189            0    1       0  \n",
       "2 2013-01-01 12:14:00    32.407786            0    1       0  \n",
       "3 2013-01-01 12:42:00     0.845377            0    1       0  \n",
       "4 2013-01-01 15:07:00     7.948265            0    1       0  "
      ]
     },
     "execution_count": 18,
     "metadata": {},
     "output_type": "execute_result"
    }
   ],
   "source": [
    "# tạo biến dummy cho ba loại hình thuê xe\n",
    "\n",
    "dummy = pd.get_dummies(df['travel_type_id'])\n",
    "dummy.rename(columns = {1: 'Long_travel', 2: 'PtP', 3:'Hourly'}, inplace = True)\n",
    "dummy.fillna(0)\n",
    "df_new = pd.concat([df,dummy], axis = 1)\n",
    "df_new.head()"
   ]
  },
  {
   "cell_type": "markdown",
   "metadata": {},
   "source": [
    "Biến travel_dist sẽ bị missing đối với loại hình travel 1 và 3. Ở đây sẽ thay thế biến missing bằng 0 với loại hình travel số 1, và biến missing là -1 đối với loại hình travel là 3."
   ]
  },
  {
   "cell_type": "code",
   "execution_count": 19,
   "metadata": {},
   "outputs": [],
   "source": [
    "df_new['travel_dist'][df_new['Long_travel'] == 1] = 0\n",
    "df_new['travel_dist'][df_new['Hourly'] == 1] = -1\n",
    "df_new.drop(columns = 'to_city_id', inplace = True)"
   ]
  },
  {
   "cell_type": "code",
   "execution_count": 20,
   "metadata": {},
   "outputs": [
    {
     "data": {
      "text/html": [
       "<div>\n",
       "<style scoped>\n",
       "    .dataframe tbody tr th:only-of-type {\n",
       "        vertical-align: middle;\n",
       "    }\n",
       "\n",
       "    .dataframe tbody tr th {\n",
       "        vertical-align: top;\n",
       "    }\n",
       "\n",
       "    .dataframe thead th {\n",
       "        text-align: right;\n",
       "    }\n",
       "</style>\n",
       "<table border=\"1\" class=\"dataframe\">\n",
       "  <thead>\n",
       "    <tr style=\"text-align: right;\">\n",
       "      <th></th>\n",
       "      <th>Total missing</th>\n",
       "      <th>Missing percent</th>\n",
       "    </tr>\n",
       "  </thead>\n",
       "  <tbody>\n",
       "    <tr>\n",
       "      <th>package_id</th>\n",
       "      <td>8233</td>\n",
       "      <td>0.824537</td>\n",
       "    </tr>\n",
       "    <tr>\n",
       "      <th>to_date_</th>\n",
       "      <td>4178</td>\n",
       "      <td>0.418428</td>\n",
       "    </tr>\n",
       "    <tr>\n",
       "      <th>to_area_id</th>\n",
       "      <td>2076</td>\n",
       "      <td>0.207912</td>\n",
       "    </tr>\n",
       "    <tr>\n",
       "      <th>to_lat</th>\n",
       "      <td>2076</td>\n",
       "      <td>0.207912</td>\n",
       "    </tr>\n",
       "    <tr>\n",
       "      <th>to_long</th>\n",
       "      <td>2076</td>\n",
       "      <td>0.207912</td>\n",
       "    </tr>\n",
       "  </tbody>\n",
       "</table>\n",
       "</div>"
      ],
      "text/plain": [
       "            Total missing  Missing percent\n",
       "package_id           8233         0.824537\n",
       "to_date_             4178         0.418428\n",
       "to_area_id           2076         0.207912\n",
       "to_lat               2076         0.207912\n",
       "to_long              2076         0.207912"
      ]
     },
     "execution_count": 20,
     "metadata": {},
     "output_type": "execute_result"
    }
   ],
   "source": [
    "missing_table(df_new)"
   ]
  },
  {
   "cell_type": "markdown",
   "metadata": {},
   "source": [
    "# <a id = '3'> 3. Encoding biến package_id và vehicle_type_id</a>"
   ]
  },
  {
   "cell_type": "markdown",
   "metadata": {},
   "source": [
    "Hiện gói package của chúng ta đang được đánh giá như sau:\n",
    "<br>1=4hrs & 40kms, 2=8hrs & 80kms, 3=6hrs & 60kms, 4= 10hrs & 100kms, 5=5hrs & 50kms, 6=3hrs & 30kms, 7=12hrs & 120kms</br>\n",
    "<br>Đối với biến category, thứ tự sắp xếp của phân lớp phải theo một quy luật nào đó. Thông thường thì các gói package cho các chuyến đi càng dài thì phải có khuyến mãi càng lớn. Thế nên cách sắp xếp category như trên có vẻ chưa được hợp lý. Cần thay thế giá trị category mới như sau</br>\n",
    "<br>6 thay bằng 1</br>\n",
    "<br>1 thay bằng 2</br>\n",
    "<br>5 thay bằng 3</br>\n",
    "<br>3 thay bằng 4</br>\n",
    "<br>2 thay bằng 5</br>\n",
    "<br>4 thay bằng 6</br>\n",
    "<br>7 giữ nguyên, và thay thế các giá trị missing bởi 0</br>"
   ]
  },
  {
   "cell_type": "code",
   "execution_count": 21,
   "metadata": {},
   "outputs": [
    {
     "data": {
      "text/plain": [
       "0.0    8233\n",
       "2.0     800\n",
       "5.0     659\n",
       "1.0     104\n",
       "6.0      84\n",
       "4.0      82\n",
       "7.0      22\n",
       "3.0       1\n",
       "Name: package_id, dtype: int64"
      ]
     },
     "execution_count": 21,
     "metadata": {},
     "output_type": "execute_result"
    }
   ],
   "source": [
    "df_new['package_id'].replace({6:1, 1:2, 5:3, 3:4, 2:5, 4:6, np.nan: 0}, inplace = True)\n",
    "df_new['package_id'].astype(str).value_counts()"
   ]
  },
  {
   "cell_type": "code",
   "execution_count": 22,
   "metadata": {},
   "outputs": [
    {
     "data": {
      "text/plain": [
       "18"
      ]
     },
     "execution_count": 22,
     "metadata": {},
     "output_type": "execute_result"
    }
   ],
   "source": [
    "df_new['vehicle_model_id'].nunique()"
   ]
  },
  {
   "cell_type": "markdown",
   "metadata": {},
   "source": [
    "Có tất cả 18 phân lớp trong vehicle_model_id"
   ]
  },
  {
   "cell_type": "code",
   "execution_count": 23,
   "metadata": {},
   "outputs": [
    {
     "data": {
      "text/html": [
       "<div>\n",
       "<style scoped>\n",
       "    .dataframe tbody tr th:only-of-type {\n",
       "        vertical-align: middle;\n",
       "    }\n",
       "\n",
       "    .dataframe tbody tr th {\n",
       "        vertical-align: top;\n",
       "    }\n",
       "\n",
       "    .dataframe thead th {\n",
       "        text-align: right;\n",
       "    }\n",
       "</style>\n",
       "<table border=\"1\" class=\"dataframe\">\n",
       "  <thead>\n",
       "    <tr style=\"text-align: right;\">\n",
       "      <th></th>\n",
       "      <th>vehicle_model_id</th>\n",
       "      <th>package_id</th>\n",
       "      <th>travel_type_id</th>\n",
       "      <th>from_area_id</th>\n",
       "      <th>to_area_id</th>\n",
       "      <th>online_booking</th>\n",
       "      <th>mobile_site_booking</th>\n",
       "      <th>from_lat</th>\n",
       "      <th>from_long</th>\n",
       "      <th>to_lat</th>\n",
       "      <th>...</th>\n",
       "      <th>model_id = 36</th>\n",
       "      <th>model_id = 54</th>\n",
       "      <th>model_id = 64</th>\n",
       "      <th>model_id = 65</th>\n",
       "      <th>model_id = 85</th>\n",
       "      <th>model_id = 86</th>\n",
       "      <th>model_id = 87</th>\n",
       "      <th>model_id = 89</th>\n",
       "      <th>model_id = 90</th>\n",
       "      <th>model_id = 91</th>\n",
       "    </tr>\n",
       "  </thead>\n",
       "  <tbody>\n",
       "    <tr>\n",
       "      <th>0</th>\n",
       "      <td>model_id = 12</td>\n",
       "      <td>0.0</td>\n",
       "      <td>2</td>\n",
       "      <td>1021.0</td>\n",
       "      <td>1323.0</td>\n",
       "      <td>0</td>\n",
       "      <td>0</td>\n",
       "      <td>13.028530</td>\n",
       "      <td>77.54625</td>\n",
       "      <td>12.869805</td>\n",
       "      <td>...</td>\n",
       "      <td>0</td>\n",
       "      <td>0</td>\n",
       "      <td>0</td>\n",
       "      <td>0</td>\n",
       "      <td>0</td>\n",
       "      <td>0</td>\n",
       "      <td>0</td>\n",
       "      <td>0</td>\n",
       "      <td>0</td>\n",
       "      <td>0</td>\n",
       "    </tr>\n",
       "    <tr>\n",
       "      <th>1</th>\n",
       "      <td>model_id = 12</td>\n",
       "      <td>0.0</td>\n",
       "      <td>2</td>\n",
       "      <td>455.0</td>\n",
       "      <td>1330.0</td>\n",
       "      <td>0</td>\n",
       "      <td>0</td>\n",
       "      <td>12.999874</td>\n",
       "      <td>77.67812</td>\n",
       "      <td>12.953434</td>\n",
       "      <td>...</td>\n",
       "      <td>0</td>\n",
       "      <td>0</td>\n",
       "      <td>0</td>\n",
       "      <td>0</td>\n",
       "      <td>0</td>\n",
       "      <td>0</td>\n",
       "      <td>0</td>\n",
       "      <td>0</td>\n",
       "      <td>0</td>\n",
       "      <td>0</td>\n",
       "    </tr>\n",
       "    <tr>\n",
       "      <th>2</th>\n",
       "      <td>model_id = 12</td>\n",
       "      <td>0.0</td>\n",
       "      <td>2</td>\n",
       "      <td>814.0</td>\n",
       "      <td>393.0</td>\n",
       "      <td>1</td>\n",
       "      <td>0</td>\n",
       "      <td>12.908993</td>\n",
       "      <td>77.68890</td>\n",
       "      <td>13.199560</td>\n",
       "      <td>...</td>\n",
       "      <td>0</td>\n",
       "      <td>0</td>\n",
       "      <td>0</td>\n",
       "      <td>0</td>\n",
       "      <td>0</td>\n",
       "      <td>0</td>\n",
       "      <td>0</td>\n",
       "      <td>0</td>\n",
       "      <td>0</td>\n",
       "      <td>0</td>\n",
       "    </tr>\n",
       "    <tr>\n",
       "      <th>3</th>\n",
       "      <td>model_id = 12</td>\n",
       "      <td>0.0</td>\n",
       "      <td>2</td>\n",
       "      <td>297.0</td>\n",
       "      <td>212.0</td>\n",
       "      <td>0</td>\n",
       "      <td>0</td>\n",
       "      <td>12.997890</td>\n",
       "      <td>77.61488</td>\n",
       "      <td>12.994740</td>\n",
       "      <td>...</td>\n",
       "      <td>0</td>\n",
       "      <td>0</td>\n",
       "      <td>0</td>\n",
       "      <td>0</td>\n",
       "      <td>0</td>\n",
       "      <td>0</td>\n",
       "      <td>0</td>\n",
       "      <td>0</td>\n",
       "      <td>0</td>\n",
       "      <td>0</td>\n",
       "    </tr>\n",
       "    <tr>\n",
       "      <th>4</th>\n",
       "      <td>model_id = 28</td>\n",
       "      <td>0.0</td>\n",
       "      <td>2</td>\n",
       "      <td>1237.0</td>\n",
       "      <td>330.0</td>\n",
       "      <td>0</td>\n",
       "      <td>0</td>\n",
       "      <td>12.926450</td>\n",
       "      <td>77.61206</td>\n",
       "      <td>12.858833</td>\n",
       "      <td>...</td>\n",
       "      <td>0</td>\n",
       "      <td>0</td>\n",
       "      <td>0</td>\n",
       "      <td>0</td>\n",
       "      <td>0</td>\n",
       "      <td>0</td>\n",
       "      <td>0</td>\n",
       "      <td>0</td>\n",
       "      <td>0</td>\n",
       "      <td>0</td>\n",
       "    </tr>\n",
       "  </tbody>\n",
       "</table>\n",
       "<p>5 rows × 37 columns</p>\n",
       "</div>"
      ],
      "text/plain": [
       "  vehicle_model_id  package_id  travel_type_id  from_area_id  to_area_id  \\\n",
       "0    model_id = 12         0.0               2        1021.0      1323.0   \n",
       "1    model_id = 12         0.0               2         455.0      1330.0   \n",
       "2    model_id = 12         0.0               2         814.0       393.0   \n",
       "3    model_id = 12         0.0               2         297.0       212.0   \n",
       "4    model_id = 28         0.0               2        1237.0       330.0   \n",
       "\n",
       "   online_booking  mobile_site_booking   from_lat  from_long     to_lat  ...  \\\n",
       "0               0                    0  13.028530   77.54625  12.869805  ...   \n",
       "1               0                    0  12.999874   77.67812  12.953434  ...   \n",
       "2               1                    0  12.908993   77.68890  13.199560  ...   \n",
       "3               0                    0  12.997890   77.61488  12.994740  ...   \n",
       "4               0                    0  12.926450   77.61206  12.858833  ...   \n",
       "\n",
       "   model_id = 36  model_id = 54 model_id = 64 model_id = 65 model_id = 85  \\\n",
       "0              0              0             0             0             0   \n",
       "1              0              0             0             0             0   \n",
       "2              0              0             0             0             0   \n",
       "3              0              0             0             0             0   \n",
       "4              0              0             0             0             0   \n",
       "\n",
       "   model_id = 86  model_id = 87  model_id = 89  model_id = 90  model_id = 91  \n",
       "0              0              0              0              0              0  \n",
       "1              0              0              0              0              0  \n",
       "2              0              0              0              0              0  \n",
       "3              0              0              0              0              0  \n",
       "4              0              0              0              0              0  \n",
       "\n",
       "[5 rows x 37 columns]"
      ]
     },
     "execution_count": 23,
     "metadata": {},
     "output_type": "execute_result"
    }
   ],
   "source": [
    "df_new['vehicle_model_id'].nunique()\n",
    "df_new['vehicle_model_id'] = 'model_id = ' + df_new['vehicle_model_id'].astype(str)\n",
    "dummy_vehicle = pd.get_dummies(df_new['vehicle_model_id'])\n",
    "df_new = pd.concat([df_new, dummy_vehicle], axis = 1)\n",
    "df_new.head()"
   ]
  },
  {
   "cell_type": "markdown",
   "metadata": {},
   "source": [
    "# <a id = '4'> 4. Xử lý dữ liệu về thời gian </a>"
   ]
  },
  {
   "cell_type": "markdown",
   "metadata": {},
   "source": [
    "Thêm hai thuộc tính mới:\n",
    "- Thời gian thuê xe (rental_time)\n",
    "- Thời gian từ khi booking đến khi khởi hành (booking_to_travel)\n",
    "<br>Hai trường trên sau khi tính toán được quy đổi về số phút</br>"
   ]
  },
  {
   "cell_type": "code",
   "execution_count": 24,
   "metadata": {},
   "outputs": [
    {
     "data": {
      "text/html": [
       "<div>\n",
       "<style scoped>\n",
       "    .dataframe tbody tr th:only-of-type {\n",
       "        vertical-align: middle;\n",
       "    }\n",
       "\n",
       "    .dataframe tbody tr th {\n",
       "        vertical-align: top;\n",
       "    }\n",
       "\n",
       "    .dataframe thead th {\n",
       "        text-align: right;\n",
       "    }\n",
       "</style>\n",
       "<table border=\"1\" class=\"dataframe\">\n",
       "  <thead>\n",
       "    <tr style=\"text-align: right;\">\n",
       "      <th></th>\n",
       "      <th>vehicle_model_id</th>\n",
       "      <th>package_id</th>\n",
       "      <th>travel_type_id</th>\n",
       "      <th>from_area_id</th>\n",
       "      <th>to_area_id</th>\n",
       "      <th>online_booking</th>\n",
       "      <th>mobile_site_booking</th>\n",
       "      <th>from_lat</th>\n",
       "      <th>from_long</th>\n",
       "      <th>to_lat</th>\n",
       "      <th>...</th>\n",
       "      <th>model_id = 64</th>\n",
       "      <th>model_id = 65</th>\n",
       "      <th>model_id = 85</th>\n",
       "      <th>model_id = 86</th>\n",
       "      <th>model_id = 87</th>\n",
       "      <th>model_id = 89</th>\n",
       "      <th>model_id = 90</th>\n",
       "      <th>model_id = 91</th>\n",
       "      <th>rental_time</th>\n",
       "      <th>booking_to_travel</th>\n",
       "    </tr>\n",
       "  </thead>\n",
       "  <tbody>\n",
       "    <tr>\n",
       "      <th>0</th>\n",
       "      <td>model_id = 12</td>\n",
       "      <td>0.0</td>\n",
       "      <td>2</td>\n",
       "      <td>1021.0</td>\n",
       "      <td>1323.0</td>\n",
       "      <td>0</td>\n",
       "      <td>0</td>\n",
       "      <td>13.028530</td>\n",
       "      <td>77.54625</td>\n",
       "      <td>12.869805</td>\n",
       "      <td>...</td>\n",
       "      <td>0</td>\n",
       "      <td>0</td>\n",
       "      <td>0</td>\n",
       "      <td>0</td>\n",
       "      <td>0</td>\n",
       "      <td>0</td>\n",
       "      <td>0</td>\n",
       "      <td>0</td>\n",
       "      <td>NaN</td>\n",
       "      <td>872</td>\n",
       "    </tr>\n",
       "    <tr>\n",
       "      <th>1</th>\n",
       "      <td>model_id = 12</td>\n",
       "      <td>0.0</td>\n",
       "      <td>2</td>\n",
       "      <td>455.0</td>\n",
       "      <td>1330.0</td>\n",
       "      <td>0</td>\n",
       "      <td>0</td>\n",
       "      <td>12.999874</td>\n",
       "      <td>77.67812</td>\n",
       "      <td>12.953434</td>\n",
       "      <td>...</td>\n",
       "      <td>0</td>\n",
       "      <td>0</td>\n",
       "      <td>0</td>\n",
       "      <td>0</td>\n",
       "      <td>0</td>\n",
       "      <td>0</td>\n",
       "      <td>0</td>\n",
       "      <td>0</td>\n",
       "      <td>NaN</td>\n",
       "      <td>164</td>\n",
       "    </tr>\n",
       "    <tr>\n",
       "      <th>2</th>\n",
       "      <td>model_id = 12</td>\n",
       "      <td>0.0</td>\n",
       "      <td>2</td>\n",
       "      <td>814.0</td>\n",
       "      <td>393.0</td>\n",
       "      <td>1</td>\n",
       "      <td>0</td>\n",
       "      <td>12.908993</td>\n",
       "      <td>77.68890</td>\n",
       "      <td>13.199560</td>\n",
       "      <td>...</td>\n",
       "      <td>0</td>\n",
       "      <td>0</td>\n",
       "      <td>0</td>\n",
       "      <td>0</td>\n",
       "      <td>0</td>\n",
       "      <td>0</td>\n",
       "      <td>0</td>\n",
       "      <td>0</td>\n",
       "      <td>1412.0</td>\n",
       "      <td>734</td>\n",
       "    </tr>\n",
       "    <tr>\n",
       "      <th>3</th>\n",
       "      <td>model_id = 12</td>\n",
       "      <td>0.0</td>\n",
       "      <td>2</td>\n",
       "      <td>297.0</td>\n",
       "      <td>212.0</td>\n",
       "      <td>0</td>\n",
       "      <td>0</td>\n",
       "      <td>12.997890</td>\n",
       "      <td>77.61488</td>\n",
       "      <td>12.994740</td>\n",
       "      <td>...</td>\n",
       "      <td>0</td>\n",
       "      <td>0</td>\n",
       "      <td>0</td>\n",
       "      <td>0</td>\n",
       "      <td>0</td>\n",
       "      <td>0</td>\n",
       "      <td>0</td>\n",
       "      <td>0</td>\n",
       "      <td>NaN</td>\n",
       "      <td>30</td>\n",
       "    </tr>\n",
       "    <tr>\n",
       "      <th>4</th>\n",
       "      <td>model_id = 28</td>\n",
       "      <td>0.0</td>\n",
       "      <td>2</td>\n",
       "      <td>1237.0</td>\n",
       "      <td>330.0</td>\n",
       "      <td>0</td>\n",
       "      <td>0</td>\n",
       "      <td>12.926450</td>\n",
       "      <td>77.61206</td>\n",
       "      <td>12.858833</td>\n",
       "      <td>...</td>\n",
       "      <td>0</td>\n",
       "      <td>0</td>\n",
       "      <td>0</td>\n",
       "      <td>0</td>\n",
       "      <td>0</td>\n",
       "      <td>0</td>\n",
       "      <td>0</td>\n",
       "      <td>0</td>\n",
       "      <td>NaN</td>\n",
       "      <td>86</td>\n",
       "    </tr>\n",
       "  </tbody>\n",
       "</table>\n",
       "<p>5 rows × 39 columns</p>\n",
       "</div>"
      ],
      "text/plain": [
       "  vehicle_model_id  package_id  travel_type_id  from_area_id  to_area_id  \\\n",
       "0    model_id = 12         0.0               2        1021.0      1323.0   \n",
       "1    model_id = 12         0.0               2         455.0      1330.0   \n",
       "2    model_id = 12         0.0               2         814.0       393.0   \n",
       "3    model_id = 12         0.0               2         297.0       212.0   \n",
       "4    model_id = 28         0.0               2        1237.0       330.0   \n",
       "\n",
       "   online_booking  mobile_site_booking   from_lat  from_long     to_lat  ...  \\\n",
       "0               0                    0  13.028530   77.54625  12.869805  ...   \n",
       "1               0                    0  12.999874   77.67812  12.953434  ...   \n",
       "2               1                    0  12.908993   77.68890  13.199560  ...   \n",
       "3               0                    0  12.997890   77.61488  12.994740  ...   \n",
       "4               0                    0  12.926450   77.61206  12.858833  ...   \n",
       "\n",
       "   model_id = 64  model_id = 65 model_id = 85 model_id = 86 model_id = 87  \\\n",
       "0              0              0             0             0             0   \n",
       "1              0              0             0             0             0   \n",
       "2              0              0             0             0             0   \n",
       "3              0              0             0             0             0   \n",
       "4              0              0             0             0             0   \n",
       "\n",
       "   model_id = 89  model_id = 90  model_id = 91  rental_time  booking_to_travel  \n",
       "0              0              0              0          NaN                872  \n",
       "1              0              0              0          NaN                164  \n",
       "2              0              0              0       1412.0                734  \n",
       "3              0              0              0          NaN                 30  \n",
       "4              0              0              0          NaN                 86  \n",
       "\n",
       "[5 rows x 39 columns]"
      ]
     },
     "execution_count": 24,
     "metadata": {},
     "output_type": "execute_result"
    }
   ],
   "source": [
    "df_new['rental_time'] = df_new['to_date_'] - df_new['from_date_']\n",
    "df_new['booking_to_travel'] = df_new['from_date_'] - df_new['booking_created_'] \n",
    "df_new['rental_time'] = pd.to_timedelta(df_new['rental_time'].dropna()).astype('timedelta64[m]').astype(int)\n",
    "df_new['booking_to_travel'] = pd.to_timedelta(df_new['booking_to_travel'].dropna()).astype('timedelta64[m]').astype(int)\n",
    "df_new.head()"
   ]
  },
  {
   "cell_type": "code",
   "execution_count": 25,
   "metadata": {},
   "outputs": [
    {
     "data": {
      "image/png": "[encoded data removed]",
      "text/plain": [
       "<Figure size 1440x576 with 1 Axes>"
      ]
     },
     "metadata": {
      "needs_background": "light"
     },
     "output_type": "display_data"
    }
   ],
   "source": [
    "plt.figure(figsize=(20,8))\n",
    "sns.scatterplot(data = df_new[df_new['PtP'] == 1], x = 'rental_time', y = 'travel_dist')\n",
    "plt.ylabel('Travel distant', size = 20)\n",
    "plt.xlabel('Rental time', size = 20)\n",
    "plt.show()"
   ]
  },
  {
   "cell_type": "markdown",
   "metadata": {},
   "source": [
    "Dữ liệu xuất hiện những điểm bất thường, cụ thể thời gian thuê xe là âm, và trong số lịch book xe chuyến (point to point), có cuốc xe đi hơn 15000 phút (10 ngày)."
   ]
  },
  {
   "cell_type": "code",
   "execution_count": 26,
   "metadata": {},
   "outputs": [
    {
     "data": {
      "text/plain": [
       "travel_type_id\n",
       "1     308\n",
       "2    4381\n",
       "3    1118\n",
       "Name: to_date_, dtype: int64"
      ]
     },
     "execution_count": 26,
     "metadata": {},
     "output_type": "execute_result"
    }
   ],
   "source": [
    "df_new['to_date_'].groupby(df_new['travel_type_id']).count()"
   ]
  },
  {
   "cell_type": "markdown",
   "metadata": {},
   "source": [
    "Cột column to_date_ hiện đang bị missing rất nhiều, hiện tượng missing xảy ra trên cả ba loại hình di chuyển. Trong một số trường hợp, thời gian thuê xe còn bị âm, hoặc quá lớn như trường hợp kể trên. Nếu xem kỹ đối với loại hình di chuyển theo giờ hoặc theo xe dài, cột nhiều mốc thời gian được làm tròn theo ngày (tính vào thời điểm 12h đêm hoặc 8 giờ sáng, giờ bắt đầu làm việc), trong khi đối với các cuốc xe theo chuyến thì thời gian cắt chuyến tính chính xác đến từng giây. Theo đánh giá cá nhân, cột thông tin thuộc tính này quá không đáng tin cậy, nên bị loại bỏ khỏi trường dữ liệu."
   ]
  },
  {
   "cell_type": "code",
   "execution_count": 27,
   "metadata": {},
   "outputs": [
    {
     "data": {
      "text/html": [
       "<div>\n",
       "<style scoped>\n",
       "    .dataframe tbody tr th:only-of-type {\n",
       "        vertical-align: middle;\n",
       "    }\n",
       "\n",
       "    .dataframe tbody tr th {\n",
       "        vertical-align: top;\n",
       "    }\n",
       "\n",
       "    .dataframe thead th {\n",
       "        text-align: right;\n",
       "    }\n",
       "</style>\n",
       "<table border=\"1\" class=\"dataframe\">\n",
       "  <thead>\n",
       "    <tr style=\"text-align: right;\">\n",
       "      <th></th>\n",
       "      <th>vehicle_model_id</th>\n",
       "      <th>package_id</th>\n",
       "      <th>travel_type_id</th>\n",
       "      <th>from_area_id</th>\n",
       "      <th>to_area_id</th>\n",
       "      <th>online_booking</th>\n",
       "      <th>mobile_site_booking</th>\n",
       "      <th>from_lat</th>\n",
       "      <th>from_long</th>\n",
       "      <th>to_lat</th>\n",
       "      <th>...</th>\n",
       "      <th>model_id = 64</th>\n",
       "      <th>model_id = 65</th>\n",
       "      <th>model_id = 85</th>\n",
       "      <th>model_id = 86</th>\n",
       "      <th>model_id = 87</th>\n",
       "      <th>model_id = 89</th>\n",
       "      <th>model_id = 90</th>\n",
       "      <th>model_id = 91</th>\n",
       "      <th>rental_time</th>\n",
       "      <th>booking_to_travel</th>\n",
       "    </tr>\n",
       "  </thead>\n",
       "  <tbody>\n",
       "    <tr>\n",
       "      <th>61</th>\n",
       "      <td>model_id = 65</td>\n",
       "      <td>0.0</td>\n",
       "      <td>1</td>\n",
       "      <td>293.0</td>\n",
       "      <td>NaN</td>\n",
       "      <td>0</td>\n",
       "      <td>0</td>\n",
       "      <td>12.849482</td>\n",
       "      <td>77.663187</td>\n",
       "      <td>NaN</td>\n",
       "      <td>...</td>\n",
       "      <td>0</td>\n",
       "      <td>1</td>\n",
       "      <td>0</td>\n",
       "      <td>0</td>\n",
       "      <td>0</td>\n",
       "      <td>0</td>\n",
       "      <td>0</td>\n",
       "      <td>0</td>\n",
       "      <td>965.0</td>\n",
       "      <td>1152</td>\n",
       "    </tr>\n",
       "    <tr>\n",
       "      <th>97</th>\n",
       "      <td>model_id = 12</td>\n",
       "      <td>0.0</td>\n",
       "      <td>1</td>\n",
       "      <td>344.0</td>\n",
       "      <td>NaN</td>\n",
       "      <td>0</td>\n",
       "      <td>0</td>\n",
       "      <td>12.947880</td>\n",
       "      <td>77.670920</td>\n",
       "      <td>NaN</td>\n",
       "      <td>...</td>\n",
       "      <td>0</td>\n",
       "      <td>0</td>\n",
       "      <td>0</td>\n",
       "      <td>0</td>\n",
       "      <td>0</td>\n",
       "      <td>0</td>\n",
       "      <td>0</td>\n",
       "      <td>0</td>\n",
       "      <td>5.0</td>\n",
       "      <td>484</td>\n",
       "    </tr>\n",
       "    <tr>\n",
       "      <th>202</th>\n",
       "      <td>model_id = 12</td>\n",
       "      <td>0.0</td>\n",
       "      <td>1</td>\n",
       "      <td>1323.0</td>\n",
       "      <td>NaN</td>\n",
       "      <td>0</td>\n",
       "      <td>0</td>\n",
       "      <td>12.869805</td>\n",
       "      <td>77.653211</td>\n",
       "      <td>NaN</td>\n",
       "      <td>...</td>\n",
       "      <td>0</td>\n",
       "      <td>0</td>\n",
       "      <td>0</td>\n",
       "      <td>0</td>\n",
       "      <td>0</td>\n",
       "      <td>0</td>\n",
       "      <td>0</td>\n",
       "      <td>0</td>\n",
       "      <td>1080.0</td>\n",
       "      <td>1896</td>\n",
       "    </tr>\n",
       "    <tr>\n",
       "      <th>219</th>\n",
       "      <td>model_id = 12</td>\n",
       "      <td>0.0</td>\n",
       "      <td>1</td>\n",
       "      <td>1063.0</td>\n",
       "      <td>NaN</td>\n",
       "      <td>0</td>\n",
       "      <td>0</td>\n",
       "      <td>12.934477</td>\n",
       "      <td>77.611284</td>\n",
       "      <td>NaN</td>\n",
       "      <td>...</td>\n",
       "      <td>0</td>\n",
       "      <td>0</td>\n",
       "      <td>0</td>\n",
       "      <td>0</td>\n",
       "      <td>0</td>\n",
       "      <td>0</td>\n",
       "      <td>0</td>\n",
       "      <td>0</td>\n",
       "      <td>720.0</td>\n",
       "      <td>1343</td>\n",
       "    </tr>\n",
       "    <tr>\n",
       "      <th>236</th>\n",
       "      <td>model_id = 12</td>\n",
       "      <td>0.0</td>\n",
       "      <td>1</td>\n",
       "      <td>1058.0</td>\n",
       "      <td>NaN</td>\n",
       "      <td>0</td>\n",
       "      <td>0</td>\n",
       "      <td>12.914535</td>\n",
       "      <td>77.631658</td>\n",
       "      <td>NaN</td>\n",
       "      <td>...</td>\n",
       "      <td>0</td>\n",
       "      <td>0</td>\n",
       "      <td>0</td>\n",
       "      <td>0</td>\n",
       "      <td>0</td>\n",
       "      <td>0</td>\n",
       "      <td>0</td>\n",
       "      <td>0</td>\n",
       "      <td>2160.0</td>\n",
       "      <td>684</td>\n",
       "    </tr>\n",
       "    <tr>\n",
       "      <th>...</th>\n",
       "      <td>...</td>\n",
       "      <td>...</td>\n",
       "      <td>...</td>\n",
       "      <td>...</td>\n",
       "      <td>...</td>\n",
       "      <td>...</td>\n",
       "      <td>...</td>\n",
       "      <td>...</td>\n",
       "      <td>...</td>\n",
       "      <td>...</td>\n",
       "      <td>...</td>\n",
       "      <td>...</td>\n",
       "      <td>...</td>\n",
       "      <td>...</td>\n",
       "      <td>...</td>\n",
       "      <td>...</td>\n",
       "      <td>...</td>\n",
       "      <td>...</td>\n",
       "      <td>...</td>\n",
       "      <td>...</td>\n",
       "      <td>...</td>\n",
       "    </tr>\n",
       "    <tr>\n",
       "      <th>9853</th>\n",
       "      <td>model_id = 12</td>\n",
       "      <td>0.0</td>\n",
       "      <td>1</td>\n",
       "      <td>393.0</td>\n",
       "      <td>NaN</td>\n",
       "      <td>1</td>\n",
       "      <td>0</td>\n",
       "      <td>13.199560</td>\n",
       "      <td>77.706880</td>\n",
       "      <td>NaN</td>\n",
       "      <td>...</td>\n",
       "      <td>0</td>\n",
       "      <td>0</td>\n",
       "      <td>0</td>\n",
       "      <td>0</td>\n",
       "      <td>0</td>\n",
       "      <td>0</td>\n",
       "      <td>0</td>\n",
       "      <td>0</td>\n",
       "      <td>6.0</td>\n",
       "      <td>596</td>\n",
       "    </tr>\n",
       "    <tr>\n",
       "      <th>9928</th>\n",
       "      <td>model_id = 65</td>\n",
       "      <td>0.0</td>\n",
       "      <td>1</td>\n",
       "      <td>393.0</td>\n",
       "      <td>NaN</td>\n",
       "      <td>0</td>\n",
       "      <td>0</td>\n",
       "      <td>13.199560</td>\n",
       "      <td>77.706880</td>\n",
       "      <td>NaN</td>\n",
       "      <td>...</td>\n",
       "      <td>0</td>\n",
       "      <td>1</td>\n",
       "      <td>0</td>\n",
       "      <td>0</td>\n",
       "      <td>0</td>\n",
       "      <td>0</td>\n",
       "      <td>0</td>\n",
       "      <td>0</td>\n",
       "      <td>-14.0</td>\n",
       "      <td>596</td>\n",
       "    </tr>\n",
       "    <tr>\n",
       "      <th>9955</th>\n",
       "      <td>model_id = 12</td>\n",
       "      <td>0.0</td>\n",
       "      <td>1</td>\n",
       "      <td>147.0</td>\n",
       "      <td>NaN</td>\n",
       "      <td>1</td>\n",
       "      <td>0</td>\n",
       "      <td>12.977544</td>\n",
       "      <td>77.668800</td>\n",
       "      <td>NaN</td>\n",
       "      <td>...</td>\n",
       "      <td>0</td>\n",
       "      <td>0</td>\n",
       "      <td>0</td>\n",
       "      <td>0</td>\n",
       "      <td>0</td>\n",
       "      <td>0</td>\n",
       "      <td>0</td>\n",
       "      <td>0</td>\n",
       "      <td>NaN</td>\n",
       "      <td>1110</td>\n",
       "    </tr>\n",
       "    <tr>\n",
       "      <th>9970</th>\n",
       "      <td>model_id = 12</td>\n",
       "      <td>0.0</td>\n",
       "      <td>1</td>\n",
       "      <td>1136.0</td>\n",
       "      <td>NaN</td>\n",
       "      <td>1</td>\n",
       "      <td>0</td>\n",
       "      <td>12.990490</td>\n",
       "      <td>77.697980</td>\n",
       "      <td>NaN</td>\n",
       "      <td>...</td>\n",
       "      <td>0</td>\n",
       "      <td>0</td>\n",
       "      <td>0</td>\n",
       "      <td>0</td>\n",
       "      <td>0</td>\n",
       "      <td>0</td>\n",
       "      <td>0</td>\n",
       "      <td>0</td>\n",
       "      <td>1445.0</td>\n",
       "      <td>2036</td>\n",
       "    </tr>\n",
       "    <tr>\n",
       "      <th>9985</th>\n",
       "      <td>model_id = 85</td>\n",
       "      <td>0.0</td>\n",
       "      <td>1</td>\n",
       "      <td>1286.0</td>\n",
       "      <td>NaN</td>\n",
       "      <td>1</td>\n",
       "      <td>0</td>\n",
       "      <td>12.973448</td>\n",
       "      <td>77.620320</td>\n",
       "      <td>NaN</td>\n",
       "      <td>...</td>\n",
       "      <td>0</td>\n",
       "      <td>0</td>\n",
       "      <td>1</td>\n",
       "      <td>0</td>\n",
       "      <td>0</td>\n",
       "      <td>0</td>\n",
       "      <td>0</td>\n",
       "      <td>0</td>\n",
       "      <td>1445.0</td>\n",
       "      <td>3539</td>\n",
       "    </tr>\n",
       "  </tbody>\n",
       "</table>\n",
       "<p>324 rows × 39 columns</p>\n",
       "</div>"
      ],
      "text/plain": [
       "     vehicle_model_id  package_id  travel_type_id  from_area_id  to_area_id  \\\n",
       "61      model_id = 65         0.0               1         293.0         NaN   \n",
       "97      model_id = 12         0.0               1         344.0         NaN   \n",
       "202     model_id = 12         0.0               1        1323.0         NaN   \n",
       "219     model_id = 12         0.0               1        1063.0         NaN   \n",
       "236     model_id = 12         0.0               1        1058.0         NaN   \n",
       "...               ...         ...             ...           ...         ...   \n",
       "9853    model_id = 12         0.0               1         393.0         NaN   \n",
       "9928    model_id = 65         0.0               1         393.0         NaN   \n",
       "9955    model_id = 12         0.0               1         147.0         NaN   \n",
       "9970    model_id = 12         0.0               1        1136.0         NaN   \n",
       "9985    model_id = 85         0.0               1        1286.0         NaN   \n",
       "\n",
       "      online_booking  mobile_site_booking   from_lat  from_long  to_lat  ...  \\\n",
       "61                 0                    0  12.849482  77.663187     NaN  ...   \n",
       "97                 0                    0  12.947880  77.670920     NaN  ...   \n",
       "202                0                    0  12.869805  77.653211     NaN  ...   \n",
       "219                0                    0  12.934477  77.611284     NaN  ...   \n",
       "236                0                    0  12.914535  77.631658     NaN  ...   \n",
       "...              ...                  ...        ...        ...     ...  ...   \n",
       "9853               1                    0  13.199560  77.706880     NaN  ...   \n",
       "9928               0                    0  13.199560  77.706880     NaN  ...   \n",
       "9955               1                    0  12.977544  77.668800     NaN  ...   \n",
       "9970               1                    0  12.990490  77.697980     NaN  ...   \n",
       "9985               1                    0  12.973448  77.620320     NaN  ...   \n",
       "\n",
       "      model_id = 64  model_id = 65 model_id = 85 model_id = 86 model_id = 87  \\\n",
       "61                0              1             0             0             0   \n",
       "97                0              0             0             0             0   \n",
       "202               0              0             0             0             0   \n",
       "219               0              0             0             0             0   \n",
       "236               0              0             0             0             0   \n",
       "...             ...            ...           ...           ...           ...   \n",
       "9853              0              0             0             0             0   \n",
       "9928              0              1             0             0             0   \n",
       "9955              0              0             0             0             0   \n",
       "9970              0              0             0             0             0   \n",
       "9985              0              0             1             0             0   \n",
       "\n",
       "      model_id = 89  model_id = 90  model_id = 91  rental_time  \\\n",
       "61                0              0              0        965.0   \n",
       "97                0              0              0          5.0   \n",
       "202               0              0              0       1080.0   \n",
       "219               0              0              0        720.0   \n",
       "236               0              0              0       2160.0   \n",
       "...             ...            ...            ...          ...   \n",
       "9853              0              0              0          6.0   \n",
       "9928              0              0              0        -14.0   \n",
       "9955              0              0              0          NaN   \n",
       "9970              0              0              0       1445.0   \n",
       "9985              0              0              0       1445.0   \n",
       "\n",
       "      booking_to_travel  \n",
       "61                 1152  \n",
       "97                  484  \n",
       "202                1896  \n",
       "219                1343  \n",
       "236                 684  \n",
       "...                 ...  \n",
       "9853                596  \n",
       "9928                596  \n",
       "9955               1110  \n",
       "9970               2036  \n",
       "9985               3539  \n",
       "\n",
       "[324 rows x 39 columns]"
      ]
     },
     "execution_count": 27,
     "metadata": {},
     "output_type": "execute_result"
    }
   ],
   "source": [
    "df_new[df_new['Long_travel'] == 1]"
   ]
  },
  {
   "cell_type": "code",
   "execution_count": 28,
   "metadata": {},
   "outputs": [],
   "source": [
    "df_new['Weekend'] = np.nan\n",
    "df_new['Weekend'][(df_new['from_date_'].dt.weekday == 5) | (df_new['from_date_'].dt.weekday == 6)] = 1\n",
    "df_new['Weekend'].fillna(0, inplace = True)\n",
    "\n",
    "df_new['Rush_hour'] = np.nan\n",
    "df_new.set_index(df_new['from_date_'], inplace = True)\n",
    "df_new['Rush_hour'][df_new.index.isin(df_new.between_time('06:00','09:00').index)] = 1\n",
    "df_new['Rush_hour'][df_new.index.isin(df_new.between_time('16:00','19:00').index)] = 1\n",
    "df_new['Rush_hour'].fillna(0, inplace = True)\n",
    "df_new.reset_index(drop=True, inplace = True)\n"
   ]
  },
  {
   "cell_type": "code",
   "execution_count": 29,
   "metadata": {},
   "outputs": [
    {
     "data": {
      "image/png": "[encoded data removed]",
      "text/plain": [
       "<Figure size 720x360 with 2 Axes>"
      ]
     },
     "metadata": {
      "needs_background": "light"
     },
     "output_type": "display_data"
    },
    {
     "data": {
      "image/png": "[encoded data removed]",
      "text/plain": [
       "<Figure size 720x360 with 2 Axes>"
      ]
     },
     "metadata": {
      "needs_background": "light"
     },
     "output_type": "display_data"
    }
   ],
   "source": [
    "df_cancel_percent = df_new[['Weekend','Rush_hour','Car_Cancellation']]\n",
    "\n",
    "for i, col in enumerate(df_cancel_percent.columns[:-1]):   \n",
    "    fig , (ax1, ax2) = plt.subplots(1,2, figsize=(10,5))\n",
    "    plt.subplot(ax1)\n",
    "    sns.countplot(data = df_cancel_percent[[col, 'Car_Cancellation']], x = col, hue = 'Car_Cancellation')\n",
    "    plt.subplot(ax2)\n",
    "    ax_1 = pd.crosstab(df_cancel_percent[col], df_cancel_percent['Car_Cancellation'], normalize = 'index').plot.bar(ax = ax2)\n",
    "    plt.xlabel('Car Cancellation')\n",
    "    plt.ylabel('Percent Distribution')\n",
    "    plt.title(df_cancel_percent.columns[i])\n",
    "\n",
    "    for rec in ax_1.patches:\n",
    "        height = rec.get_height()\n",
    "        ax_1.text(rec.get_x() + rec.get_width() / 2, \n",
    "                  rec.get_y() + height / 2,\n",
    "                  \"{:.3f}\".format(height),\n",
    "                  ha='center', \n",
    "                  va='bottom')\n",
    "\n",
    "    plt.show()"
   ]
  },
  {
   "cell_type": "markdown",
   "metadata": {},
   "source": [
    "Weekend có tỉ lệ tài xế cancel hơi cao hơn một chút đối với ngày thường, nhưng tỉ lệ này thể hiện rõ rệt đối với khung thời gian giờ cao điểm. Cụ thể, trong khung giờ cao điểm, tỉ lệ các cuốc xe bị hủy cao hơn gấp rưỡi so với khung giờ bình thường. Điều này dễ dàng hiểu được khi tình trạng kẹt xe, tài xế không đến kịp giờ, tự ý hủy và nhận chuyến xe khác. "
   ]
  },
  {
   "cell_type": "markdown",
   "metadata": {},
   "source": [
    "# <a id = '5'> 5. Xử lý tiếp các thuộc tính về tọa độ </a>"
   ]
  },
  {
   "cell_type": "markdown",
   "metadata": {},
   "source": [
    "Đối với from_area_id và to_area_id, mỗi trường dữ liệu có khoảng 500 phân lớp nên không thể sử dụng one-hot encoding cho tất cả trường dữ liệu này được."
   ]
  },
  {
   "cell_type": "markdown",
   "metadata": {},
   "source": [
    "Theo tư duy thông thường, cơ sở hạ tầng và tình trạng giao thông có mức độ ảnh hưởng nhất định đến quá trình ra quyết định của tài xế taxi. Tuy nhiên, dựa vào thuộc tính area_ID, chúng ta không có cách nào có được thông tin này. Do vậy ta sẽ tính gián tiếp thông tin của các vùng đến và đi của tài xế thông qua thuộc tính tọa độ, và phân vùng thành ba vùng (trung tâm mua sắm, nội thành Bangalore, và vùng ngoài thành phố ). Ta thể hiện tọa độ điểm đón và đi trên trục tọa độ.  "
   ]
  },
  {
   "cell_type": "code",
   "execution_count": 30,
   "metadata": {},
   "outputs": [
    {
     "data": {
      "image/png": "[encoded data removed]",
      "text/plain": [
       "<Figure size 1440x576 with 1 Axes>"
      ]
     },
     "metadata": {
      "needs_background": "light"
     },
     "output_type": "display_data"
    }
   ],
   "source": [
    "plt.figure(figsize=(20,8))\n",
    "sns.scatterplot(data = df_new, x = 'from_lat', y = 'from_long')\n",
    "plt.ylabel('Kinh độ', size = 20)\n",
    "plt.xlabel('Vĩ độ', size = 20)\n",
    "plt.show()"
   ]
  },
  {
   "cell_type": "markdown",
   "metadata": {},
   "source": [
    "Chúng ta thấy tọa độ của các chuyến xe taxi ở điểm đón có sự tập trung xung quanh một tọa độ nhất định. Tra cứu thông tin trên google theo Bangalore Central Business District (CBD), chúng ta có tọa độ của khu CBD, tọa độ này là (12.975, 77.61) và bán kính khoảng 6km. Chúng ta thử vẽ lên trục tọa độ phía trên. \n",
    "Ngoài ra diện tích thành phố Bangalore là khoảng 709 km2, trung tâm ở khoảng tọa độ (13.0137758,77.604186), nếu chúng ta tra hình dạng thành phố, thành phố Bangalore cũng tương đối giống hình tròn. Chúng ta cũng thử sử dụng thông số này để vẽ lên đồ thị."
   ]
  },
  {
   "cell_type": "code",
   "execution_count": 31,
   "metadata": {},
   "outputs": [],
   "source": [
    "cbd = [12.975, 77.61]\n",
    "inner = [13.0137758,77.604186]\n",
    "cbd_radius = 6\n",
    "inner_radius = np.sqrt(709/np.pi)"
   ]
  },
  {
   "cell_type": "code",
   "execution_count": 32,
   "metadata": {},
   "outputs": [
    {
     "data": {
      "image/png": "[encoded data removed]",
      "text/plain": [
       "<Figure size 1440x576 with 1 Axes>"
      ]
     },
     "metadata": {
      "needs_background": "light"
     },
     "output_type": "display_data"
    }
   ],
   "source": [
    "plt.figure(figsize=(20,8))\n",
    "sns.scatterplot(data = df_new, x = 'from_lat', y = 'from_long')\n",
    "circle1 = plt.Circle((cbd[0], cbd[1]), cbd_radius/111.32, color='blue', fill=False)\n",
    "circle2 = plt.Circle((inner[0],inner[1]), inner_radius/111.32, color='r', fill=False)\n",
    "plt.ylabel('Kinh độ', size = 20)\n",
    "plt.xlabel('Vĩ độ', size = 20)\n",
    "plt.gcf().gca().add_artist(circle1)\n",
    "plt.gcf().gca().add_artist(circle2)\n",
    "plt.axis('equal')\n",
    "plt.show()"
   ]
  },
  {
   "cell_type": "markdown",
   "metadata": {},
   "source": [
    "Ta thấy số lượng đặt xe có sự tập trung ở khu vực CBD, và phần lớn dữ liệu được gói gọn trong phạm vi nội đô thành phố Bangalore. Có thể thấy sử dụng trường thuộc tính tọa độ, chúng ta có thể phân điểm đặt xe taxi thành khu vực CBD, nội đô, và ngoại vi thành phố. Chúng ta sẽ đặt biến category mới, bao gồm 1 nếu thuộc CBD, 2 nếu thuộc nội đô, 3 nếu là ngoại vi, với mức độ yếu dần về cơ sở hạ tầng và lưu lượng giao thông "
   ]
  },
  {
   "cell_type": "code",
   "execution_count": 33,
   "metadata": {},
   "outputs": [
    {
     "data": {
      "image/png": "[encoded data removed]",
      "text/plain": [
       "<Figure size 1440x576 with 1 Axes>"
      ]
     },
     "metadata": {
      "needs_background": "light"
     },
     "output_type": "display_data"
    }
   ],
   "source": [
    "plt.figure(figsize=(20,8))\n",
    "sns.scatterplot(data = df_new[df_new['to_lat'].notnull()], x = 'to_lat', y = 'to_long')\n",
    "circle1 = plt.Circle((cbd[0], cbd[1]), cbd_radius/111.32, color='blue', fill=False)\n",
    "circle2 = plt.Circle((inner[0],inner[1]), inner_radius/111.32, color='r', fill=False)\n",
    "plt.ylabel('Kinh độ', size = 20)\n",
    "plt.xlabel('Vĩ độ', size = 20)\n",
    "plt.gcf().gca().add_artist(circle1)\n",
    "plt.gcf().gca().add_artist(circle2)\n",
    "plt.axis('equal')\n",
    "plt.show()"
   ]
  },
  {
   "cell_type": "markdown",
   "metadata": {},
   "source": [
    "Điều này cũng đúng đối với các thông tin về tọa độ điểm đến."
   ]
  },
  {
   "cell_type": "code",
   "execution_count": 34,
   "metadata": {},
   "outputs": [],
   "source": [
    "def area_dummy(data, x, y):\n",
    "    data['dist_to_cbd'] = (np.sqrt((data[x] - cbd[0])**2 + (data[y] - cbd[1])**2))*111.32\n",
    "    data['dist_to_inner'] = (np.sqrt((data[x] - inner[0])**2 + (data[y] - inner[1])**2))*111.32\n",
    "    return data"
   ]
  },
  {
   "cell_type": "code",
   "execution_count": 35,
   "metadata": {},
   "outputs": [],
   "source": [
    "area_dummy(df_new, 'from_lat', 'from_long')\n",
    "df_new['from_area'] = ''\n",
    "df_new['from_area'][df_new['dist_to_inner'] > inner_radius] = 3\n",
    "df_new['from_area'][(df_new['dist_to_inner'] <= inner_radius) & (df_new['dist_to_cbd'] > cbd_radius)] = 2\n",
    "df_new['from_area'][df_new['dist_to_cbd'] <= cbd_radius] = 1\n",
    "\n",
    "area_dummy(df_new[df_new['to_lat'].notnull()], 'to_lat', 'to_long')\n",
    "df_new['to_area'] = ''\n",
    "df_new['to_area'][df_new['dist_to_inner'] > inner_radius] = 3\n",
    "df_new['to_area'][(df_new['dist_to_inner'] <= inner_radius) & (df_new['dist_to_cbd'] > cbd_radius)] = 2\n",
    "df_new['to_area'][(df_new['dist_to_cbd'] <= cbd_radius) & (df_new['to_lat'].notnull())] = 1\n",
    "df_new['to_area'][df_new['to_lat'].isnull()] = 0"
   ]
  },
  {
   "cell_type": "code",
   "execution_count": 36,
   "metadata": {},
   "outputs": [],
   "source": [
    "df_new.drop(columns = ['dist_to_inner','dist_to_cbd'], axis = 1, inplace = True)"
   ]
  },
  {
   "cell_type": "markdown",
   "metadata": {},
   "source": [
    "Chúng ta thử vẽ đồ thị tỉ lệ cancellation đối với các biến category mới"
   ]
  },
  {
   "cell_type": "code",
   "execution_count": 37,
   "metadata": {},
   "outputs": [
    {
     "data": {
      "image/png": "[encoded data removed]",
      "text/plain": [
       "<Figure size 720x360 with 2 Axes>"
      ]
     },
     "metadata": {
      "needs_background": "light"
     },
     "output_type": "display_data"
    },
    {
     "data": {
      "image/png": "[encoded data removed]",
      "text/plain": [
       "<Figure size 720x360 with 2 Axes>"
      ]
     },
     "metadata": {
      "needs_background": "light"
     },
     "output_type": "display_data"
    },
    {
     "data": {
      "image/png": "[encoded data removed]",
      "text/plain": [
       "<Figure size 720x360 with 2 Axes>"
      ]
     },
     "metadata": {
      "needs_background": "light"
     },
     "output_type": "display_data"
    }
   ],
   "source": [
    "df_cancel_percent = df_new[['travel_type_id','from_area','to_area','Car_Cancellation']]\n",
    "\n",
    "for i, col in enumerate(df_cancel_percent.columns[:-1]):   \n",
    "    fig , (ax1, ax2) = plt.subplots(1,2, figsize=(10,5))\n",
    "    plt.subplot(ax1)\n",
    "    sns.countplot(data = df_cancel_percent[[col, 'Car_Cancellation']], x = col, hue = 'Car_Cancellation')\n",
    "    plt.subplot(ax2)\n",
    "    ax_1 = pd.crosstab(df_cancel_percent[col], df_cancel_percent['Car_Cancellation'], normalize = 'index').plot.bar(ax = ax2)\n",
    "    plt.xlabel('Car Cancellation')\n",
    "    plt.ylabel('Percent Distribution')\n",
    "    plt.title(df_cancel_percent.columns[i])\n",
    "\n",
    "    for rec in ax_1.patches:\n",
    "        height = rec.get_height()\n",
    "        ax_1.text(rec.get_x() + rec.get_width() / 2, \n",
    "                  rec.get_y() + height / 2,\n",
    "                  \"{:.3f}\".format(height),\n",
    "                  ha='center', \n",
    "                  va='bottom')\n",
    "\n",
    "    plt.show()"
   ]
  },
  {
   "cell_type": "markdown",
   "metadata": {},
   "source": [
    "Sau khi phân loại như trên, chúng ta có thể thấy tỉ lệ cancel của tài xế tăng dần theo các mức category chúng ta đặt ra. Có vẻ như càng ra ngoài khu vực trung tâm, tỉ lệ cancel xe càng tăng lên. "
   ]
  },
  {
   "cell_type": "markdown",
   "metadata": {},
   "source": [
    "# <a id = '6'>6. Chuẩn hóa các biến về số, xử lý outlier </a>"
   ]
  },
  {
   "cell_type": "markdown",
   "metadata": {},
   "source": [
    "Trước khi xem xét về các biến số và xử lý giá trị bất thường, ta loại bỏ các thuộc tính sau khi được biến đổi và kiểm tra missing data lại."
   ]
  },
  {
   "cell_type": "code",
   "execution_count": 38,
   "metadata": {},
   "outputs": [],
   "source": [
    "df_new.drop(columns = ['travel_type_id', 'vehicle_model_id', 'from_area_id', 'to_area_id',\\\n",
    "                      'from_lat', 'to_lat', 'from_long', 'to_long',\\\n",
    "                      'from_date_', 'to_date_', 'booking_created_', 'rental_time'], inplace = True)"
   ]
  },
  {
   "cell_type": "code",
   "execution_count": 39,
   "metadata": {},
   "outputs": [
    {
     "data": {
      "text/html": [
       "<div>\n",
       "<style scoped>\n",
       "    .dataframe tbody tr th:only-of-type {\n",
       "        vertical-align: middle;\n",
       "    }\n",
       "\n",
       "    .dataframe tbody tr th {\n",
       "        vertical-align: top;\n",
       "    }\n",
       "\n",
       "    .dataframe thead th {\n",
       "        text-align: right;\n",
       "    }\n",
       "</style>\n",
       "<table border=\"1\" class=\"dataframe\">\n",
       "  <thead>\n",
       "    <tr style=\"text-align: right;\">\n",
       "      <th></th>\n",
       "      <th>Total missing</th>\n",
       "      <th>Missing percent</th>\n",
       "    </tr>\n",
       "  </thead>\n",
       "  <tbody>\n",
       "  </tbody>\n",
       "</table>\n",
       "</div>"
      ],
      "text/plain": [
       "Empty DataFrame\n",
       "Columns: [Total missing, Missing percent]\n",
       "Index: []"
      ]
     },
     "execution_count": 39,
     "metadata": {},
     "output_type": "execute_result"
    }
   ],
   "source": [
    "missing_table(df_new)"
   ]
  },
  {
   "cell_type": "markdown",
   "metadata": {},
   "source": [
    "Không còn dữ liệu missing."
   ]
  },
  {
   "cell_type": "code",
   "execution_count": 40,
   "metadata": {},
   "outputs": [
    {
     "name": "stdout",
     "output_type": "stream",
     "text": [
      "8 2\n"
     ]
    }
   ],
   "source": [
    "print(len(df_new[df_new['booking_to_travel']<0]),len(df_new[(df_new['travel_dist'] == 0) & (df_new['PtP'] == 1)]))"
   ]
  },
  {
   "cell_type": "markdown",
   "metadata": {},
   "source": [
    "Ta kiểm tra điểm dữ liệu bất thường với booking_to_travel âm (thời gian đặt xe đến khi thời gian di chuyển) và khoảng cách di chuyển là 0 đối với hình thức Point to Point. Chúng ta thấy xuất hiện 8 điểm dữ liệu ở trường hợp trước và 2 điểm dữ liệu bất thường ở trường hợp sau. Kiểm tra cụ thể các trường hợp này, rõ ràng các tài xế có nhận chuyến và di chuyển. Có lẽ đây là lỗi hệ thống, chúng ta loại bỏ những trường hợp này."
   ]
  },
  {
   "cell_type": "code",
   "execution_count": 41,
   "metadata": {},
   "outputs": [
    {
     "data": {
      "text/html": [
       "<div>\n",
       "<style scoped>\n",
       "    .dataframe tbody tr th:only-of-type {\n",
       "        vertical-align: middle;\n",
       "    }\n",
       "\n",
       "    .dataframe tbody tr th {\n",
       "        vertical-align: top;\n",
       "    }\n",
       "\n",
       "    .dataframe thead th {\n",
       "        text-align: right;\n",
       "    }\n",
       "</style>\n",
       "<table border=\"1\" class=\"dataframe\">\n",
       "  <thead>\n",
       "    <tr style=\"text-align: right;\">\n",
       "      <th></th>\n",
       "      <th>package_id</th>\n",
       "      <th>online_booking</th>\n",
       "      <th>mobile_site_booking</th>\n",
       "      <th>Car_Cancellation</th>\n",
       "      <th>travel_dist</th>\n",
       "      <th>Long_travel</th>\n",
       "      <th>PtP</th>\n",
       "      <th>Hourly</th>\n",
       "      <th>model_id = 1</th>\n",
       "      <th>model_id = 10</th>\n",
       "      <th>...</th>\n",
       "      <th>model_id = 86</th>\n",
       "      <th>model_id = 87</th>\n",
       "      <th>model_id = 89</th>\n",
       "      <th>model_id = 90</th>\n",
       "      <th>model_id = 91</th>\n",
       "      <th>booking_to_travel</th>\n",
       "      <th>Weekend</th>\n",
       "      <th>Rush_hour</th>\n",
       "      <th>from_area</th>\n",
       "      <th>to_area</th>\n",
       "    </tr>\n",
       "  </thead>\n",
       "  <tbody>\n",
       "    <tr>\n",
       "      <th>4091</th>\n",
       "      <td>0.0</td>\n",
       "      <td>0</td>\n",
       "      <td>0</td>\n",
       "      <td>0</td>\n",
       "      <td>0.0</td>\n",
       "      <td>0</td>\n",
       "      <td>1</td>\n",
       "      <td>0</td>\n",
       "      <td>0</td>\n",
       "      <td>0</td>\n",
       "      <td>...</td>\n",
       "      <td>0</td>\n",
       "      <td>0</td>\n",
       "      <td>0</td>\n",
       "      <td>0</td>\n",
       "      <td>0</td>\n",
       "      <td>386</td>\n",
       "      <td>0.0</td>\n",
       "      <td>1.0</td>\n",
       "      <td>2</td>\n",
       "      <td>2</td>\n",
       "    </tr>\n",
       "    <tr>\n",
       "      <th>5268</th>\n",
       "      <td>0.0</td>\n",
       "      <td>0</td>\n",
       "      <td>0</td>\n",
       "      <td>0</td>\n",
       "      <td>0.0</td>\n",
       "      <td>0</td>\n",
       "      <td>1</td>\n",
       "      <td>0</td>\n",
       "      <td>0</td>\n",
       "      <td>0</td>\n",
       "      <td>...</td>\n",
       "      <td>0</td>\n",
       "      <td>0</td>\n",
       "      <td>0</td>\n",
       "      <td>0</td>\n",
       "      <td>0</td>\n",
       "      <td>204</td>\n",
       "      <td>0.0</td>\n",
       "      <td>1.0</td>\n",
       "      <td>1</td>\n",
       "      <td>1</td>\n",
       "    </tr>\n",
       "  </tbody>\n",
       "</table>\n",
       "<p>2 rows × 31 columns</p>\n",
       "</div>"
      ],
      "text/plain": [
       "      package_id  online_booking  mobile_site_booking  Car_Cancellation  \\\n",
       "4091         0.0               0                    0                 0   \n",
       "5268         0.0               0                    0                 0   \n",
       "\n",
       "      travel_dist  Long_travel  PtP  Hourly  model_id = 1  model_id = 10  ...  \\\n",
       "4091          0.0            0    1       0             0              0  ...   \n",
       "5268          0.0            0    1       0             0              0  ...   \n",
       "\n",
       "      model_id = 86  model_id = 87  model_id = 89  model_id = 90  \\\n",
       "4091              0              0              0              0   \n",
       "5268              0              0              0              0   \n",
       "\n",
       "      model_id = 91  booking_to_travel  Weekend  Rush_hour  from_area  to_area  \n",
       "4091              0                386      0.0        1.0          2        2  \n",
       "5268              0                204      0.0        1.0          1        1  \n",
       "\n",
       "[2 rows x 31 columns]"
      ]
     },
     "execution_count": 41,
     "metadata": {},
     "output_type": "execute_result"
    }
   ],
   "source": [
    "df_new[(df_new['travel_dist'] == 0) & (df_new['PtP'] == 1)]"
   ]
  },
  {
   "cell_type": "code",
   "execution_count": 42,
   "metadata": {},
   "outputs": [
    {
     "data": {
      "text/html": [
       "<div>\n",
       "<style scoped>\n",
       "    .dataframe tbody tr th:only-of-type {\n",
       "        vertical-align: middle;\n",
       "    }\n",
       "\n",
       "    .dataframe tbody tr th {\n",
       "        vertical-align: top;\n",
       "    }\n",
       "\n",
       "    .dataframe thead th {\n",
       "        text-align: right;\n",
       "    }\n",
       "</style>\n",
       "<table border=\"1\" class=\"dataframe\">\n",
       "  <thead>\n",
       "    <tr style=\"text-align: right;\">\n",
       "      <th></th>\n",
       "      <th>package_id</th>\n",
       "      <th>online_booking</th>\n",
       "      <th>mobile_site_booking</th>\n",
       "      <th>Car_Cancellation</th>\n",
       "      <th>travel_dist</th>\n",
       "      <th>Long_travel</th>\n",
       "      <th>PtP</th>\n",
       "      <th>Hourly</th>\n",
       "      <th>model_id = 1</th>\n",
       "      <th>model_id = 10</th>\n",
       "      <th>...</th>\n",
       "      <th>model_id = 86</th>\n",
       "      <th>model_id = 87</th>\n",
       "      <th>model_id = 89</th>\n",
       "      <th>model_id = 90</th>\n",
       "      <th>model_id = 91</th>\n",
       "      <th>booking_to_travel</th>\n",
       "      <th>Weekend</th>\n",
       "      <th>Rush_hour</th>\n",
       "      <th>from_area</th>\n",
       "      <th>to_area</th>\n",
       "    </tr>\n",
       "  </thead>\n",
       "  <tbody>\n",
       "    <tr>\n",
       "      <th>1188</th>\n",
       "      <td>2.0</td>\n",
       "      <td>0</td>\n",
       "      <td>0</td>\n",
       "      <td>0</td>\n",
       "      <td>-1.000000</td>\n",
       "      <td>0</td>\n",
       "      <td>0</td>\n",
       "      <td>1</td>\n",
       "      <td>0</td>\n",
       "      <td>0</td>\n",
       "      <td>...</td>\n",
       "      <td>0</td>\n",
       "      <td>0</td>\n",
       "      <td>0</td>\n",
       "      <td>0</td>\n",
       "      <td>0</td>\n",
       "      <td>-3</td>\n",
       "      <td>1.0</td>\n",
       "      <td>1.0</td>\n",
       "      <td>2</td>\n",
       "      <td>0</td>\n",
       "    </tr>\n",
       "    <tr>\n",
       "      <th>1356</th>\n",
       "      <td>2.0</td>\n",
       "      <td>0</td>\n",
       "      <td>0</td>\n",
       "      <td>0</td>\n",
       "      <td>-1.000000</td>\n",
       "      <td>0</td>\n",
       "      <td>0</td>\n",
       "      <td>1</td>\n",
       "      <td>0</td>\n",
       "      <td>0</td>\n",
       "      <td>...</td>\n",
       "      <td>0</td>\n",
       "      <td>0</td>\n",
       "      <td>0</td>\n",
       "      <td>0</td>\n",
       "      <td>0</td>\n",
       "      <td>-92</td>\n",
       "      <td>0.0</td>\n",
       "      <td>0.0</td>\n",
       "      <td>3</td>\n",
       "      <td>0</td>\n",
       "    </tr>\n",
       "    <tr>\n",
       "      <th>2045</th>\n",
       "      <td>0.0</td>\n",
       "      <td>0</td>\n",
       "      <td>0</td>\n",
       "      <td>0</td>\n",
       "      <td>38.335303</td>\n",
       "      <td>0</td>\n",
       "      <td>1</td>\n",
       "      <td>0</td>\n",
       "      <td>0</td>\n",
       "      <td>0</td>\n",
       "      <td>...</td>\n",
       "      <td>0</td>\n",
       "      <td>0</td>\n",
       "      <td>0</td>\n",
       "      <td>0</td>\n",
       "      <td>0</td>\n",
       "      <td>-131</td>\n",
       "      <td>0.0</td>\n",
       "      <td>0.0</td>\n",
       "      <td>3</td>\n",
       "      <td>3</td>\n",
       "    </tr>\n",
       "    <tr>\n",
       "      <th>3529</th>\n",
       "      <td>5.0</td>\n",
       "      <td>0</td>\n",
       "      <td>0</td>\n",
       "      <td>0</td>\n",
       "      <td>-1.000000</td>\n",
       "      <td>0</td>\n",
       "      <td>0</td>\n",
       "      <td>1</td>\n",
       "      <td>0</td>\n",
       "      <td>0</td>\n",
       "      <td>...</td>\n",
       "      <td>0</td>\n",
       "      <td>0</td>\n",
       "      <td>0</td>\n",
       "      <td>0</td>\n",
       "      <td>0</td>\n",
       "      <td>-24</td>\n",
       "      <td>1.0</td>\n",
       "      <td>1.0</td>\n",
       "      <td>2</td>\n",
       "      <td>0</td>\n",
       "    </tr>\n",
       "    <tr>\n",
       "      <th>3992</th>\n",
       "      <td>0.0</td>\n",
       "      <td>0</td>\n",
       "      <td>0</td>\n",
       "      <td>0</td>\n",
       "      <td>4.089472</td>\n",
       "      <td>0</td>\n",
       "      <td>1</td>\n",
       "      <td>0</td>\n",
       "      <td>0</td>\n",
       "      <td>0</td>\n",
       "      <td>...</td>\n",
       "      <td>0</td>\n",
       "      <td>0</td>\n",
       "      <td>0</td>\n",
       "      <td>0</td>\n",
       "      <td>0</td>\n",
       "      <td>-23</td>\n",
       "      <td>0.0</td>\n",
       "      <td>0.0</td>\n",
       "      <td>2</td>\n",
       "      <td>2</td>\n",
       "    </tr>\n",
       "    <tr>\n",
       "      <th>5476</th>\n",
       "      <td>0.0</td>\n",
       "      <td>0</td>\n",
       "      <td>0</td>\n",
       "      <td>0</td>\n",
       "      <td>32.894721</td>\n",
       "      <td>0</td>\n",
       "      <td>1</td>\n",
       "      <td>0</td>\n",
       "      <td>0</td>\n",
       "      <td>0</td>\n",
       "      <td>...</td>\n",
       "      <td>0</td>\n",
       "      <td>0</td>\n",
       "      <td>0</td>\n",
       "      <td>0</td>\n",
       "      <td>0</td>\n",
       "      <td>-5</td>\n",
       "      <td>0.0</td>\n",
       "      <td>0.0</td>\n",
       "      <td>2</td>\n",
       "      <td>2</td>\n",
       "    </tr>\n",
       "    <tr>\n",
       "      <th>9106</th>\n",
       "      <td>0.0</td>\n",
       "      <td>0</td>\n",
       "      <td>0</td>\n",
       "      <td>0</td>\n",
       "      <td>5.884210</td>\n",
       "      <td>0</td>\n",
       "      <td>1</td>\n",
       "      <td>0</td>\n",
       "      <td>0</td>\n",
       "      <td>0</td>\n",
       "      <td>...</td>\n",
       "      <td>0</td>\n",
       "      <td>0</td>\n",
       "      <td>0</td>\n",
       "      <td>0</td>\n",
       "      <td>0</td>\n",
       "      <td>-14</td>\n",
       "      <td>0.0</td>\n",
       "      <td>1.0</td>\n",
       "      <td>1</td>\n",
       "      <td>1</td>\n",
       "    </tr>\n",
       "    <tr>\n",
       "      <th>9801</th>\n",
       "      <td>0.0</td>\n",
       "      <td>0</td>\n",
       "      <td>0</td>\n",
       "      <td>0</td>\n",
       "      <td>13.468888</td>\n",
       "      <td>0</td>\n",
       "      <td>1</td>\n",
       "      <td>0</td>\n",
       "      <td>0</td>\n",
       "      <td>0</td>\n",
       "      <td>...</td>\n",
       "      <td>0</td>\n",
       "      <td>0</td>\n",
       "      <td>0</td>\n",
       "      <td>0</td>\n",
       "      <td>0</td>\n",
       "      <td>-1374</td>\n",
       "      <td>0.0</td>\n",
       "      <td>0.0</td>\n",
       "      <td>1</td>\n",
       "      <td>1</td>\n",
       "    </tr>\n",
       "  </tbody>\n",
       "</table>\n",
       "<p>8 rows × 31 columns</p>\n",
       "</div>"
      ],
      "text/plain": [
       "      package_id  online_booking  mobile_site_booking  Car_Cancellation  \\\n",
       "1188         2.0               0                    0                 0   \n",
       "1356         2.0               0                    0                 0   \n",
       "2045         0.0               0                    0                 0   \n",
       "3529         5.0               0                    0                 0   \n",
       "3992         0.0               0                    0                 0   \n",
       "5476         0.0               0                    0                 0   \n",
       "9106         0.0               0                    0                 0   \n",
       "9801         0.0               0                    0                 0   \n",
       "\n",
       "      travel_dist  Long_travel  PtP  Hourly  model_id = 1  model_id = 10  ...  \\\n",
       "1188    -1.000000            0    0       1             0              0  ...   \n",
       "1356    -1.000000            0    0       1             0              0  ...   \n",
       "2045    38.335303            0    1       0             0              0  ...   \n",
       "3529    -1.000000            0    0       1             0              0  ...   \n",
       "3992     4.089472            0    1       0             0              0  ...   \n",
       "5476    32.894721            0    1       0             0              0  ...   \n",
       "9106     5.884210            0    1       0             0              0  ...   \n",
       "9801    13.468888            0    1       0             0              0  ...   \n",
       "\n",
       "      model_id = 86  model_id = 87  model_id = 89  model_id = 90  \\\n",
       "1188              0              0              0              0   \n",
       "1356              0              0              0              0   \n",
       "2045              0              0              0              0   \n",
       "3529              0              0              0              0   \n",
       "3992              0              0              0              0   \n",
       "5476              0              0              0              0   \n",
       "9106              0              0              0              0   \n",
       "9801              0              0              0              0   \n",
       "\n",
       "      model_id = 91  booking_to_travel  Weekend  Rush_hour  from_area  to_area  \n",
       "1188              0                 -3      1.0        1.0          2        0  \n",
       "1356              0                -92      0.0        0.0          3        0  \n",
       "2045              0               -131      0.0        0.0          3        3  \n",
       "3529              0                -24      1.0        1.0          2        0  \n",
       "3992              0                -23      0.0        0.0          2        2  \n",
       "5476              0                 -5      0.0        0.0          2        2  \n",
       "9106              0                -14      0.0        1.0          1        1  \n",
       "9801              0              -1374      0.0        0.0          1        1  \n",
       "\n",
       "[8 rows x 31 columns]"
      ]
     },
     "execution_count": 42,
     "metadata": {},
     "output_type": "execute_result"
    }
   ],
   "source": [
    "df_new[df_new['booking_to_travel']<0]"
   ]
  },
  {
   "cell_type": "code",
   "execution_count": 43,
   "metadata": {},
   "outputs": [],
   "source": [
    "df_new.drop(df_new[df_new['booking_to_travel'] < 0].index, inplace = True)\n",
    "df_new.drop(df_new[(df_new['travel_dist'] == 0) & (df_new['PtP'] == 1)].index, inplace = True)"
   ]
  },
  {
   "cell_type": "code",
   "execution_count": 44,
   "metadata": {},
   "outputs": [
    {
     "data": {
      "text/plain": [
       "<Figure size 1440x576 with 0 Axes>"
      ]
     },
     "metadata": {},
     "output_type": "display_data"
    },
    {
     "data": {
      "image/png": "[encoded data removed]",
      "text/plain": [
       "<Figure size 1080x360 with 2 Axes>"
      ]
     },
     "metadata": {
      "needs_background": "light"
     },
     "output_type": "display_data"
    }
   ],
   "source": [
    "plt.figure(figsize=(20,8))\n",
    "fig , (ax1, ax2) = plt.subplots(1,2, figsize=(15,5))\n",
    "plt.subplot(ax1)\n",
    "sns.boxplot(data = df_new, y = 'booking_to_travel', x = 'Car_Cancellation')\n",
    "plt.title('Car cancel by booking day', size = 24)\n",
    "plt.subplot(ax2)\n",
    "sns.boxplot(data = df_new[df_new['PtP'] == 1], y = 'travel_dist', x = 'Car_Cancellation')\n",
    "plt.title('Car cancel by travel distant', size = 24)\n",
    "plt.show()"
   ]
  },
  {
   "cell_type": "code",
   "execution_count": 45,
   "metadata": {},
   "outputs": [
    {
     "data": {
      "text/plain": [
       "<Figure size 1440x576 with 0 Axes>"
      ]
     },
     "metadata": {},
     "output_type": "display_data"
    },
    {
     "data": {
      "image/png": "[encoded data removed]",
      "text/plain": [
       "<Figure size 1080x360 with 2 Axes>"
      ]
     },
     "metadata": {
      "needs_background": "light"
     },
     "output_type": "display_data"
    }
   ],
   "source": [
    "plt.figure(figsize=(20,8))\n",
    "fig , (ax1, ax2) = plt.subplots(1,2, figsize=(15,5))\n",
    "plt.subplot(ax1)\n",
    "sns.boxplot(y = np.log(df_new['booking_to_travel']), x = df_new['Car_Cancellation'])\n",
    "plt.title('Car cancel by booking day', size = 24)\n",
    "plt.subplot(ax2)\n",
    "sns.boxplot(data = df_new[df_new['PtP'] == 1], y = 'travel_dist', x = 'Car_Cancellation')\n",
    "plt.title('Car cancel by travel distant', size = 24)\n",
    "plt.show()"
   ]
  },
  {
   "cell_type": "markdown",
   "metadata": {},
   "source": [
    "Đối với Car Cancellation, chúng ta thấy trung bình quãng đường di chuyển của các cuốc xe bị cancel ngắn hơn hẳn các cuốc xe bình thường. Nhưng các trong số các chuyến xe bị cancel, có nhiều điểm dữ liệu bất thường nằm ngoài đầu nến phía trên. Có thể hiểu rằng, các tài xế có vẻ không muốn các chuyến xe ngắn, và cũng không muốn các chuyến xe quá dài. Giá trị điểm bất thường ở đây mang thông tin quan trọng đối với việc ra quyết định của tài xế. Chúng ta không nên loại outlier ở travel_dist."
   ]
  },
  {
   "cell_type": "markdown",
   "metadata": {},
   "source": [
    "Đối với biến booking to travel, các điểm bất thường nằm dưới đường nến xảy ra đối với các chuyến xe không bị cancel. Cũng giống như trường hợp của taxi công nghệ, khi tài xế trả khách, họ có thể đón khách tiếp theo luôn, nên khoảng thời gian này sẽ rất ngắn. Và do quãng đường từ khi trả khách trước đến đón khách sau rất gần, nên tài xế sẽ gần như không đưa ra quyết định hủy chuyến. Các điểm bất thường này chứa mang thông tin quan trọng, chúng ta cũng giữ các outlier này lại."
   ]
  },
  {
   "cell_type": "markdown",
   "metadata": {},
   "source": [
    "Tuy nhiên, trong tập dữ liệu của chúng ta có các điểm dữ liệu từ khi booking đến khi đi rất dài, chúng ta có thể xử lý bằng cách thay thế một giá trị ở cận trên. Điều này không ảnh hưởng đến dữ liệu của chúng ta. Ở đây chúng ta nếu lấy giá trị cận trên của khoảng 99% dữ liệu, chúng ta có được booking_to_travel xấp xỉ 35000 phút (tương đương 25 ngày)."
   ]
  },
  {
   "cell_type": "code",
   "execution_count": 46,
   "metadata": {},
   "outputs": [
    {
     "data": {
      "text/plain": [
       "35412.30000000001"
      ]
     },
     "execution_count": 46,
     "metadata": {},
     "output_type": "execute_result"
    }
   ],
   "source": [
    "df_new['booking_to_travel'].quantile(0.99)"
   ]
  },
  {
   "cell_type": "code",
   "execution_count": 47,
   "metadata": {},
   "outputs": [],
   "source": [
    "df_new['booking_to_travel'][df_new['booking_to_travel'] > df_new['booking_to_travel'].quantile(0.99)] = df_new['booking_to_travel'].quantile(0.99)"
   ]
  },
  {
   "cell_type": "code",
   "execution_count": 48,
   "metadata": {},
   "outputs": [
    {
     "data": {
      "text/plain": [
       "<Figure size 1440x576 with 0 Axes>"
      ]
     },
     "metadata": {},
     "output_type": "display_data"
    },
    {
     "data": {
      "image/png": "[encoded data removed]",
      "text/plain": [
       "<Figure size 1080x360 with 2 Axes>"
      ]
     },
     "metadata": {
      "needs_background": "light"
     },
     "output_type": "display_data"
    }
   ],
   "source": [
    "from scipy.stats import norm\n",
    "plt.figure(figsize=(20,8))\n",
    "fig , (ax1, ax2) = plt.subplots(1,2, figsize=(15,5))\n",
    "plt.subplot(ax1)\n",
    "sns.distplot(df_new['travel_dist'][df_new['PtP'] == 1], color = 'g', fit = norm)\n",
    "plt.subplot(ax2)\n",
    "sns.distplot(np.log(df_new['booking_to_travel']), color = 'g', fit = norm)\n",
    "plt.show()"
   ]
  },
  {
   "cell_type": "code",
   "execution_count": 49,
   "metadata": {},
   "outputs": [
    {
     "name": "stdout",
     "output_type": "stream",
     "text": [
      "0.4470319441921449 0.46019553284543535\n"
     ]
    }
   ],
   "source": [
    "print(df_new['travel_dist'][df_new['PtP'] == 1].skew(),np.log(df_new['booking_to_travel']).skew())"
   ]
  },
  {
   "cell_type": "markdown",
   "metadata": {},
   "source": [
    "Hai giá trị này đều nhỏ hơn 0.5, cho nên độ lệch của hai thuộc tính này coi như không đáng kể."
   ]
  },
  {
   "cell_type": "code",
   "execution_count": 50,
   "metadata": {},
   "outputs": [],
   "source": [
    "df_new['booking_to_travel'] = np.log(df_new['booking_to_travel'])"
   ]
  },
  {
   "cell_type": "code",
   "execution_count": 51,
   "metadata": {},
   "outputs": [],
   "source": [
    "from sklearn.preprocessing import StandardScaler\n",
    "scaler = StandardScaler() \n",
    "df_new['booking_to_travel'] = scaler.fit_transform(df_new['booking_to_travel'].values.reshape(-1, 1))\n",
    "\n",
    "data = pd.DataFrame(df_new['travel_dist'][df_new['PtP'] == 1], index = df_new.index)\n",
    "data['travel_dist_normal'] = scaler.fit_transform(data.values.reshape(-1, 1))\n",
    "data.drop(columns = 'travel_dist', axis = 1, inplace = True)\n",
    "df_new = pd.concat([df_new, data], axis = 1)\n",
    "df_new['travel_dist'][df_new['PtP'] == 1] = df_new['travel_dist_normal'][df_new['PtP'] == 1]\n",
    "df_new.drop(columns = 'travel_dist_normal', inplace = True)"
   ]
  },
  {
   "cell_type": "code",
   "execution_count": 52,
   "metadata": {},
   "outputs": [
    {
     "data": {
      "text/plain": [
       "<Figure size 1440x576 with 0 Axes>"
      ]
     },
     "metadata": {},
     "output_type": "display_data"
    },
    {
     "data": {
      "image/png": "[encoded data removed]",
      "text/plain": [
       "<Figure size 1080x360 with 2 Axes>"
      ]
     },
     "metadata": {
      "needs_background": "light"
     },
     "output_type": "display_data"
    }
   ],
   "source": [
    "plt.figure(figsize=(20,8))\n",
    "fig , (ax1, ax2) = plt.subplots(1,2, figsize=(15,5))\n",
    "plt.subplot(ax1)\n",
    "sns.distplot(df_new['travel_dist'][df_new['PtP'] == 1], color = 'g', fit = norm)\n",
    "plt.subplot(ax2)\n",
    "sns.distplot(df_new['booking_to_travel'], color = 'g', fit = norm)\n",
    "plt.show()"
   ]
  },
  {
   "cell_type": "code",
   "execution_count": 53,
   "metadata": {},
   "outputs": [],
   "source": [
    "y = df_new['Car_Cancellation']\n",
    "x = df_new.drop(columns = 'Car_Cancellation', axis = 1)"
   ]
  },
  {
   "cell_type": "code",
   "execution_count": 54,
   "metadata": {},
   "outputs": [
    {
     "name": "stdout",
     "output_type": "stream",
     "text": [
      "0.07447722715554282 0.07450718342799867\n"
     ]
    }
   ],
   "source": [
    "from sklearn.model_selection import train_test_split\n",
    "x_train, x_test, y_train, y_test = train_test_split(x, y, test_size=0.30, random_state=1, stratify=y)\n",
    "print(y_train.sum()/len(y_train), y_test.sum()/len(y_test))"
   ]
  },
  {
   "cell_type": "markdown",
   "metadata": {},
   "source": [
    "# <a id='7'>7. Mô hình dự đoán với RandomForest </a>"
   ]
  },
  {
   "cell_type": "code",
   "execution_count": 55,
   "metadata": {},
   "outputs": [
    {
     "name": "stdout",
     "output_type": "stream",
     "text": [
      "0.8598019252361263\n"
     ]
    }
   ],
   "source": [
    "sampler = RandomOverSampler()\n",
    "x_rs, y_rs = sampler.fit_sample(x_train, y_train)\n",
    "\n",
    "model_RF = RandomForestClassifier(n_estimators=100)\n",
    "grid = {   \n",
    "    'max_depth': [3, 4, 5, 6],\n",
    "    'max_features': [5, 6],\n",
    "    'min_samples_leaf': [3, 6],\n",
    "}\n",
    "rf = ms.GridSearchCV(estimator=model_RF, param_grid=grid, cv=10, scoring = 'roc_auc')\n",
    "rf.fit(x_rs, y_rs)\n",
    "\n",
    "best_depth = rf.best_params_['max_depth']\n",
    "best_feature = rf.best_params_['max_features']\n",
    "best_sample_leaf = rf.best_params_['min_samples_leaf']\n",
    "\n",
    "print(max(rf.cv_results_['mean_test_score']))"
   ]
  },
  {
   "cell_type": "code",
   "execution_count": 56,
   "metadata": {},
   "outputs": [
    {
     "data": {
      "text/plain": [
       "0.7927206941768791"
      ]
     },
     "execution_count": 56,
     "metadata": {},
     "output_type": "execute_result"
    }
   ],
   "source": [
    "from sklearn import metrics\n",
    "rf.fit(x_rs, y_rs)\n",
    "y_predict = rf.predict(x_test)\n",
    "y_predict_prob = rf.predict_proba(x_test)\n",
    "fpr, tpr, thresholds = metrics.roc_curve(y_test, y_predict_prob[:,1])\n",
    "metrics.auc(fpr, tpr)"
   ]
  },
  {
   "cell_type": "code",
   "execution_count": 57,
   "metadata": {},
   "outputs": [
    {
     "name": "stdout",
     "output_type": "stream",
     "text": [
      "0.8635608782883265\n"
     ]
    }
   ],
   "source": [
    "sampler = SMOTE()\n",
    "x_rs, y_rs = sampler.fit_sample(x_train, y_train)\n",
    "\n",
    "model_RF = RandomForestClassifier(n_estimators=100)\n",
    "grid = {   \n",
    "    'max_depth': [4, 5, 6],\n",
    "    'max_features': [5, 6],\n",
    "    'min_samples_leaf': [3, 6],\n",
    "}\n",
    "rf = ms.GridSearchCV(estimator=model_RF, param_grid=grid, cv=10, scoring = 'roc_auc')\n",
    "rf.fit(x_rs, y_rs)\n",
    "\n",
    "best_depth = rf.best_params_['max_depth']\n",
    "best_feature = rf.best_params_['max_features']\n",
    "best_sample_leaf = rf.best_params_['min_samples_leaf']\n",
    "\n",
    "print(max(rf.cv_results_['mean_test_score']))"
   ]
  },
  {
   "cell_type": "code",
   "execution_count": 58,
   "metadata": {},
   "outputs": [
    {
     "data": {
      "text/plain": [
       "0.783663855207136"
      ]
     },
     "execution_count": 58,
     "metadata": {},
     "output_type": "execute_result"
    }
   ],
   "source": [
    "y_predict = rf.predict(x_test)\n",
    "y_predict_prob = rf.predict_proba(x_test)\n",
    "fpr, tpr, thresholds = metrics.roc_curve(y_test, y_predict_prob[:,1])\n",
    "metrics.auc(fpr, tpr)"
   ]
  },
  {
   "cell_type": "code",
   "execution_count": 59,
   "metadata": {},
   "outputs": [
    {
     "name": "stdout",
     "output_type": "stream",
     "text": [
      "0.8646360226905545\n"
     ]
    }
   ],
   "source": [
    "model_RF = RandomForestClassifier(n_estimators=100)\n",
    "grid = {   \n",
    "    'max_depth': [4, 5, 6],\n",
    "    'max_features': [5, 6],\n",
    "    'min_samples_leaf': [3, 6],\n",
    "}\n",
    "rf = ms.GridSearchCV(estimator=model_RF, param_grid=grid, cv=10, scoring = 'roc_auc')\n",
    "rf.fit(x_rs, y_rs)\n",
    "\n",
    "best_depth = rf.best_params_['max_depth']\n",
    "best_feature = rf.best_params_['max_features']\n",
    "best_sample_leaf = rf.best_params_['min_samples_leaf']\n",
    "\n",
    "print(max(rf.cv_results_['mean_test_score']))"
   ]
  },
  {
   "cell_type": "code",
   "execution_count": 61,
   "metadata": {},
   "outputs": [
    {
     "data": {
      "text/plain": [
       "0.7798538148969583"
      ]
     },
     "execution_count": 61,
     "metadata": {},
     "output_type": "execute_result"
    }
   ],
   "source": [
    "y_predict = rf.predict(x_test)\n",
    "y_predict_prob = rf.predict_proba(x_test)\n",
    "fpr, tpr, thresholds = metrics.roc_curve(y_test, y_predict_prob[:,1])\n",
    "metrics.auc(fpr, tpr)"
   ]
  },
  {
   "cell_type": "markdown",
   "metadata": {},
   "source": [
    "Kết quả thu được bằng ba cách resample như sau:"
   ]
  },
  {
   "cell_type": "markdown",
   "metadata": {},
   "source": [
    "\n",
    "| Chọn lại mẫu | AUROC ở tập validation | AUROC ở tập test\n",
    "| ---|---|---\n",
    "| Sử dụng thông số tích hợp trong mô hình| 0.864 | 0.779\n",
    "| Sử dụng chọn lại mẫu đơn giản (naive) | 0.859| 0.792\n",
    "| Sử dụng chọn lại mẫu SMOTE | 0.863 | 0.783"
   ]
  },
  {
   "cell_type": "markdown",
   "metadata": {},
   "source": [
    "## <a id='8'>8. Mô hình dự đoán với AdaBoost</a>"
   ]
  },
  {
   "cell_type": "code",
   "execution_count": 62,
   "metadata": {},
   "outputs": [],
   "source": [
    "sampler = RandomOverSampler()\n",
    "x_rs, y_rs = sampler.fit_sample(x_train, y_train)"
   ]
  },
  {
   "cell_type": "code",
   "execution_count": 63,
   "metadata": {},
   "outputs": [
    {
     "name": "stdout",
     "output_type": "stream",
     "text": [
      "0.8346289054111796\n"
     ]
    }
   ],
   "source": [
    "model_ada = AdaBoostClassifier(n_estimators=100)\n",
    "grid = {   \n",
    "    'n_estimators': [50, 75, 100, 200],\n",
    "    'learning_rate': [0.01, 0.1, 0.15, 0.2]    \n",
    "}\n",
    "ada = ms.GridSearchCV(estimator=model_ada, param_grid=grid, cv=10, scoring = 'roc_auc')\n",
    "ada.fit(x_rs, y_rs)\n",
    "\n",
    "best_n_estimators = ada.best_params_['n_estimators']\n",
    "best_learning_rate = ada.best_params_['learning_rate']\n",
    "\n",
    "print(max(ada.cv_results_['mean_test_score']))"
   ]
  },
  {
   "cell_type": "code",
   "execution_count": 64,
   "metadata": {},
   "outputs": [
    {
     "data": {
      "text/plain": [
       "0.7855935633225948"
      ]
     },
     "execution_count": 64,
     "metadata": {},
     "output_type": "execute_result"
    }
   ],
   "source": [
    "y_predict = ada.predict(x_test)\n",
    "y_predict_prob = ada.predict_proba(x_test)\n",
    "fpr, tpr, thresholds = metrics.roc_curve(y_test, y_predict_prob[:,1])\n",
    "metrics.auc(fpr, tpr)"
   ]
  },
  {
   "cell_type": "markdown",
   "metadata": {},
   "source": [
    "## <a id='9'>9. Mô hình dự đoán với Lightgbm</a>"
   ]
  },
  {
   "cell_type": "code",
   "execution_count": 65,
   "metadata": {},
   "outputs": [],
   "source": [
    "def bayes_parameter_opt_lgb(X, y, init_round=15, opt_round=25, repeated = 20, n_estimators=1000, output_process=False):\n",
    "    # prepare data\n",
    "    train_data = lgb.Dataset(data=X, label=y, free_raw_data=False)\n",
    "    # parameters\n",
    "    def lgb_eval(num_leaves, feature_fraction, bagging_fraction, max_depth, \n",
    "                 max_bin, lambda_l1, lambda_l2, learning_rate):\n",
    "        params = {'application':'binary','num_iterations': n_estimators, \n",
    "                  'early_stopping_round':100, 'metric':'auc', 'verbosity' : -1}\n",
    "        params[\"num_leaves\"] = int(round(num_leaves))\n",
    "        params['feature_fraction'] = max(min(feature_fraction, 1), 0)\n",
    "        params['bagging_fraction'] = max(min(bagging_fraction, 1), 0)\n",
    "        params['max_depth'] = int(round(max_depth))\n",
    "        params['lambda_l1'] = max(lambda_l1, 0)\n",
    "        params['lambda_l2'] = max(lambda_l2, 0)\n",
    "        params['learning_rate'] = learning_rate\n",
    "        params['max_bin'] = int(round(max_bin))\n",
    "        cv = KFold(n_splits=10, shuffle = True)\n",
    "        cv_result = lgb.cv(params, train_data, folds = cv, verbose_eval = 1000, metrics=['auc'])\n",
    "        return max(cv_result['auc-mean'])\n",
    "    \n",
    "    result = pd.DataFrame()\n",
    "    result['Fold'], result['auc-mean'] = [],[]\n",
    "    # range \n",
    "    for i in range(repeated):\n",
    "        lgbBO = BayesianOptimization(lgb_eval, { 'feature_fraction': (0.1, 0.9),\n",
    "                                                 'bagging_fraction': (0.1, 0.9),\n",
    "                                                 'max_depth': (4,8),\n",
    "                                                 'num_leaves' : (3,10),\n",
    "                                                 'max_bin' : (50, 100),\n",
    "                                                 'lambda_l1': (0, 3),\n",
    "                                                 'lambda_l2': (0, 3),\n",
    "                                                 'learning_rate' : (0.005, 0.2)})                                                       \n",
    "                                            \n",
    "    # optimize\n",
    "        lgbBO.maximize(init_points=init_round, n_iter=opt_round)\n",
    "        result = result.append(lgbBO.max['params'], ignore_index=True)\n",
    "        result.iloc[i,0] = i+1\n",
    "        result.iloc[i,1] = lgbBO.max['target']\n",
    "    # return best parameters\n",
    "    return result"
   ]
  },
  {
   "cell_type": "code",
   "execution_count": 82,
   "metadata": {},
   "outputs": [],
   "source": [
    "x_rs['from_area']=x_rs['from_area'].astype('float')\n",
    "x_rs['to_area']=x_rs['to_area'].astype('float')"
   ]
  },
  {
   "cell_type": "code",
   "execution_count": 85,
   "metadata": {},
   "outputs": [],
   "source": [
    "import os, sys\n",
    "\n",
    "class HiddenPrints:\n",
    "    def __enter__(self):\n",
    "        self._original_stdout = sys.stdout\n",
    "        sys.stdout = open(os.devnull, 'w')\n",
    "\n",
    "    def __exit__(self, exc_type, exc_val, exc_tb):\n",
    "        sys.stdout.close()\n",
    "        sys.stdout = self._original_stdout  "
   ]
  },
  {
   "cell_type": "code",
   "execution_count": 87,
   "metadata": {},
   "outputs": [],
   "source": [
    "with HiddenPrints():\n",
    "    opt_params = bayes_parameter_opt_lgb(x_rs, y_rs, init_round=10, opt_round=25, repeated = 10, n_estimators=10, output_process=False)"
   ]
  },
  {
   "cell_type": "code",
   "execution_count": 88,
   "metadata": {},
   "outputs": [],
   "source": [
    "best_params = opt_params[opt_params['auc-mean'] == opt_params['auc-mean'].max()]\n",
    "best_params = best_params.iloc[0,:].to_dict()\n",
    "\n",
    "params = {'num_leaves' : int(round(best_params['num_leaves'])),\n",
    "          'learning_rate' : best_params['learning_rate'],                               \n",
    "          'bagging_fraction' : best_params['bagging_fraction'], \n",
    "          'feature_fraction' : best_params['feature_fraction'],\n",
    "          'lambda_l1' : best_params['lambda_l1'], 'lambda_l2' : best_params['lambda_l2'],\n",
    "          'max_depth' : int(round(best_params['max_depth'])),\n",
    "          'num_iterations': 100, 'objective':'binary',\n",
    "          'metric':'auc', 'verbosity' : -1}"
   ]
  },
  {
   "cell_type": "code",
   "execution_count": 90,
   "metadata": {},
   "outputs": [],
   "source": [
    "x_test['from_area']=x_test['from_area'].astype('float')\n",
    "x_test['to_area']=x_test['to_area'].astype('float')"
   ]
  },
  {
   "cell_type": "code",
   "execution_count": 91,
   "metadata": {},
   "outputs": [
    {
     "data": {
      "text/plain": [
       "0.7878300496996973"
      ]
     },
     "execution_count": 91,
     "metadata": {},
     "output_type": "execute_result"
    }
   ],
   "source": [
    "train_data = lgb.Dataset(data = x_rs, label=y_rs, free_raw_data=False)\n",
    "clf = lgb.train(params=params, train_set = train_data, verbose_eval=False)                     \n",
    "\n",
    "y_predict = clf.predict(x_test)\n",
    "fpr, tpr, thresholds = metrics.roc_curve(y_test, y_predict)\n",
    "metrics.auc(fpr, tpr)"
   ]
  },
  {
   "cell_type": "code",
   "execution_count": 92,
   "metadata": {},
   "outputs": [
    {
     "data": {
      "text/plain": [
       "0.8363336107320853"
      ]
     },
     "execution_count": 92,
     "metadata": {},
     "output_type": "execute_result"
    }
   ],
   "source": [
    "best_params['auc-mean']"
   ]
  }
 ],
 "metadata": {
  "kernelspec": {
   "display_name": "Python 3",
   "language": "python",
   "name": "python3"
  },
  "language_info": {
   "codemirror_mode": {
    "name": "ipython",
    "version": 3
   },
   "file_extension": ".py",
   "mimetype": "text/x-python",
   "name": "python",
   "nbconvert_exporter": "python",
   "pygments_lexer": "ipython3",
   "version": "3.7.6"
  }
 },
 "nbformat": 4,
 "nbformat_minor": 4
}
